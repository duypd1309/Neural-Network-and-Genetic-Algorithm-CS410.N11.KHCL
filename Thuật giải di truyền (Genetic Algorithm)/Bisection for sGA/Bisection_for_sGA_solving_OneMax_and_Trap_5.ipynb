{
  "cells": [
    {
      "cell_type": "code",
      "execution_count": null,
      "metadata": {
        "id": "ywQivVjuJt7X"
      },
      "outputs": [],
      "source": [
        "import numpy as np\n"
      ]
    },
    {
      "cell_type": "code",
      "execution_count": null,
      "metadata": {
        "id": "PA-brNhtaDeY"
      },
      "outputs": [],
      "source": [
        "num_evaluations = 0\n",
        "k_bisection = 0"
      ]
    },
    {
      "cell_type": "code",
      "execution_count": null,
      "metadata": {
        "id": "hVkgh926KBW9"
      },
      "outputs": [],
      "source": [
        "def initialize_population( num_individuals, num_variables ):\n",
        "    \"\"\"\n",
        "    Khởi tạo quần thể gồm num_individuals cá thể. Mỗi cá thể có num_parameters biến.\n",
        "    \n",
        "    Arguments:\n",
        "    num_individuals -- Số lượng cá thể\n",
        "    num_variables -- Số lượng biến\n",
        "    \n",
        "    Returns:\n",
        "    pop -- Ma trận (num_individuals, num_variables ) chứa quần thể mới được khởi tạo ngẫu nhiên.\n",
        "    \"\"\"\n",
        "    \n",
        "    ### BẮT ĐẦU CODE TỪ ĐÂY ###\n",
        "    pop = np.random.randint(2, size=(num_individuals, num_variables))\n",
        "    \n",
        "    ### DỪNG CODE TẠI ĐÂY ###\n",
        "    \n",
        "    return pop"
      ]
    },
    {
      "cell_type": "code",
      "execution_count": null,
      "metadata": {
        "id": "bJtmlY6QKiCG"
      },
      "outputs": [],
      "source": [
        "def onemax( ind ):\n",
        "    \"\"\"\n",
        "    Hàm đánh giá OneMax: Đếm số bit 1 trong chuỗi nhị phân (cá thể ind).\n",
        "    \n",
        "    Arguments:\n",
        "    ind -- Cá thể cần được đánh giá.\n",
        "\n",
        "    Returns:\n",
        "    value -- Giá trị của cá thể ind.\n",
        "    \"\"\"\n",
        "    \n",
        "    ### BẮT ĐẦU CODE TỪ ĐÂY ###\n",
        "    global num_evaluations\n",
        "    num_evaluations += 1   \n",
        "    value = np.sum(ind)\n",
        "    \n",
        "    ### DỪNG CODE TẠI ĐÂY ###\n",
        "    \n",
        "    return value"
      ]
    },
    {
      "cell_type": "code",
      "execution_count": null,
      "metadata": {
        "id": "5EurAZ6dKoHE"
      },
      "outputs": [],
      "source": [
        "def trap_5( ind ):\n",
        "  global num_evaluations \n",
        "  num_evaluations += 1\n",
        "  value = 0\n",
        "  for i in range(0, len(ind), 5):\n",
        "    sum = np.sum(ind[i:i+5])\n",
        "    if (sum == 5):\n",
        "      value += 5\n",
        "    else:\n",
        "      value += (4 - sum) \n",
        "  return value"
      ]
    },
    {
      "cell_type": "code",
      "execution_count": null,
      "metadata": {
        "id": "D1ZT9eOkdSPG"
      },
      "outputs": [],
      "source": [
        "def pop_fitness_evaluator(pop, method):\n",
        "  return np.array([method(ind) for ind in pop])"
      ]
    },
    {
      "cell_type": "code",
      "execution_count": null,
      "metadata": {
        "id": "uF05m9trQLCe"
      },
      "outputs": [],
      "source": [
        "def tournament_selection(pool, pool_fitness, tournament_size=4):\n",
        "  num_individuals = len(pool)\n",
        "\n",
        "  result = []\n",
        "\n",
        "  for _ in range(2):\n",
        "    indicies = np.arange(num_individuals)\n",
        "    np.random.shuffle(indicies)\n",
        "    \n",
        "    for i in range(0, num_individuals, tournament_size):\n",
        "      current_idx = list(indicies[i:i+tournament_size])\n",
        "\n",
        "      fitness_points = []\n",
        "      for idx in current_idx:\n",
        "        fitness_points.append(pool_fitness[idx])\n",
        "      \n",
        "      best_fit_idx = current_idx[fitness_points.index(max(fitness_points))]\n",
        "\n",
        "      result.append(best_fit_idx)\n",
        "  \n",
        "  return result"
      ]
    },
    {
      "cell_type": "code",
      "execution_count": null,
      "metadata": {
        "id": "SuHTK8ynUpUW"
      },
      "outputs": [],
      "source": [
        "def crossover( pop, method ):\n",
        "    \"\"\"\n",
        "    Hàm biến đổi tạo ra các cá thể con.\n",
        "    \n",
        "    Arguments:\n",
        "    pop -- Quàn thể hiện tại.\n",
        "\n",
        "    Returns:\n",
        "    offspring -- Quần thể chứa các cá thể con được sinh ra.\n",
        "    \"\"\"  \n",
        "    \n",
        "    ### BẮT ĐẦU CODE TỪ ĐÂY ### \n",
        "    num_individuals = len(pop)\n",
        "    num_parameters = len(pop[0])\n",
        "    indices = np.arange(num_individuals)\n",
        "    # Đảo ngẫu nhiên thứ tự các cá thể trong quần thể\n",
        "    np.random.shuffle(indices)\n",
        "    offspring = []\n",
        "    \n",
        "    for i in range(0, num_individuals, 2):\n",
        "        idx1 = indices[i]\n",
        "        idx2 = indices[i+1]\n",
        "        offspring1 = list(pop[idx1])\n",
        "        offspring2 = list(pop[idx2])\n",
        "        \n",
        "        if method == \"UX\":\n",
        "          # Cài đặt phép lai đồng nhất uniform crossover. \n",
        "          for idx in range(0, num_parameters):\n",
        "              r = np.random.rand()\n",
        "              if r < 0.5:\n",
        "                temp = offspring2[idx] \n",
        "                offspring2[idx] = offspring1[idx]\n",
        "                offspring1[idx] = temp\n",
        "\n",
        "        elif (method == \"1X\"):\n",
        "          # Cài đặt phép lai một điểm 1X crossover.\n",
        "          r = np.random.randint(num_parameters)\n",
        "          for idx in range(r, num_parameters):\n",
        "                temp = offspring2[idx] \n",
        "                offspring2[idx] = offspring1[idx]\n",
        "                offspring1[idx] = temp\n",
        "\n",
        "\n",
        "        offspring.append(offspring1)\n",
        "        offspring.append(offspring2)\n",
        "\n",
        "\n",
        "    ### DỪNG CODE TẠI ĐÂY ###\n",
        "    \n",
        "    offspring = np.array(offspring)\n",
        "    return offspring"
      ]
    },
    {
      "cell_type": "code",
      "execution_count": null,
      "metadata": {
        "id": "5tMR1587OUxu"
      },
      "outputs": [],
      "source": [
        "def check_convergence(pop):\n",
        "  num_individuals = len(pop)\n",
        "  num_parameters = len(pop[0])\n",
        "  for i in range(num_individuals - 1):\n",
        "    for j in range(num_parameters):\n",
        "      if pop[i,j] != pop[i+1,j]:\n",
        "        return False\n",
        "  return True"
      ]
    },
    {
      "cell_type": "code",
      "execution_count": null,
      "metadata": {
        "id": "W_nACZlxYs56"
      },
      "outputs": [],
      "source": [
        "def genetic_algorithm(num_individuals, num_parameters, fitness_func, crossover_type, random_seed):\n",
        "    np.random.seed(random_seed)\n",
        "    pop = initialize_population(num_individuals, num_parameters)\n",
        "    pop_fitness = pop_fitness_evaluator(pop, fitness_func)\n",
        "\n",
        "    while True:\n",
        "        offspring = crossover(pop, crossover_type)\n",
        "        offspring_fitness = pop_fitness_evaluator(offspring, fitness_func)\n",
        "\n",
        "        pool = np.vstack([pop, offspring])\n",
        "        pool_fitness = np.concatenate((pop_fitness, offspring_fitness))\n",
        "\n",
        "        selected_indicies = tournament_selection(pool, pool_fitness)\n",
        "        selection_set = pool[selected_indicies]\n",
        "        selection_fitness = pool_fitness[selected_indicies]\n",
        "\n",
        "        pop = np.copy(selection_set)\n",
        "        pop_fitness = np.copy(selection_fitness)\n",
        "        if check_convergence(pop):\n",
        "          break\n",
        "\n",
        "    # Return true if all individuals converge to best fitness otherwise false\n",
        "    return np.all(pop_fitness == num_parameters)"
      ]
    },
    {
      "cell_type": "code",
      "execution_count": null,
      "metadata": {
        "id": "PgusJzw-Re84"
      },
      "outputs": [],
      "source": [
        "def run_10_sGA(num_individuals, num_parameters, fitness_func, crossover_type):\n",
        "  global k_bisection\n",
        "  MSSV = 19521432\n",
        "  random_seed = MSSV + k_bisection * 10\n",
        "  for i in range(10):\n",
        "    if not (genetic_algorithm(num_individuals, num_parameters, fitness_func, crossover_type, random_seed + i)):\n",
        "      return False\n",
        "  return True    "
      ]
    },
    {
      "cell_type": "code",
      "execution_count": null,
      "metadata": {
        "id": "oA-nSH_4g4_6"
      },
      "outputs": [],
      "source": [
        "def bisection(num_parameters, fitness_func, crossover_type):\n",
        "  # Find upper bound of MRPS\n",
        "  n_upper = 4\n",
        "  success = False\n",
        "  while not (success):\n",
        "    if n_upper == 8192:\n",
        "      return 0\n",
        "    n_upper *= 2\n",
        "    success = run_10_sGA(n_upper, num_parameters, fitness_func, crossover_type)\n",
        "\n",
        "  # Find MRPS\n",
        "  n_lower = n_upper // 2\n",
        "  while (n_upper - n_lower) / n_upper > 0.1:\n",
        "    n = (n_upper + n_lower) // 2\n",
        "    success = run_10_sGA(n, num_parameters, fitness_func, crossover_type)\n",
        "\n",
        "    if success:\n",
        "      n_upper = n\n",
        "    else:\n",
        "      n_lower = n \n",
        "\n",
        "    if (n_upper - n_lower) <= 2:\n",
        "      break\n",
        "  global num_evaluations\n",
        "  num_evaluations = 0\n",
        "  run_10_sGA(n_upper, num_parameters, fitness_func, crossover_type)\n",
        "  return n_upper"
      ]
    },
    {
      "cell_type": "code",
      "execution_count": null,
      "metadata": {
        "id": "IAyNx0Pkg9ap"
      },
      "outputs": [],
      "source": [
        "def run_10_bisection(num_parameters, fitness_func, crossover_type):\n",
        "  # Return (mean of MRPS, mean of numbers of evaluations) of 10 successful bisections on a problem size.\n",
        "  print(\"problem_size = {}; fitness_func = {}; crossover_method = {}\".format(num_parameters, fitness_func.__name__, crossover_type))\n",
        "  print(\"# MRPS  # num_evaluations  # random_seed\")\n",
        "  global num_evaluations\n",
        "  global k_bisection \n",
        "  MRPS_list = []\n",
        "  num_evaluations_list = []\n",
        "  for k_bisection in range(10):\n",
        "    MRPS = bisection(num_parameters, fitness_func, crossover_type)\n",
        "    if MRPS == 0:\n",
        "      num_evaluations = 0\n",
        "    else:\n",
        "      num_evaluations /= 10\n",
        "    MRPS_list.append(MRPS)\n",
        "    num_evaluations_list.append(num_evaluations)\n",
        "    print(\"{} {} {}\".format(MRPS, num_evaluations, 19521432 + k_bisection * 10))\n",
        "\n",
        "  print(\"MRPS of 10 successful bisections: {}\".format(MRPS_list))\n",
        "  print(\"num_evaluations of 10 successful bisections: {}\".format(num_evaluations_list))\n",
        "\n",
        "  print(\"Mean and std of MRPS: {:.3f} {:.3f}\".format(np.mean(MRPS_list), np.std(MRPS_list)))\n",
        "  print(\"Mean and std of num_evaluations: {:.3f} {:.3f}\".format(np.mean(num_evaluations_list), np.std(num_evaluations_list)))"
      ]
    },
    {
      "cell_type": "code",
      "source": [
        "# Sample output\n",
        "run_10_bisection(10, onemax, \"UX\")"
      ],
      "metadata": {
        "id": "NDSzJI8htxUu",
        "colab": {
          "base_uri": "https://localhost:8080/"
        },
        "outputId": "5bc77509-e02f-43c4-b5ad-884144e8e70e"
      },
      "execution_count": null,
      "outputs": [
        {
          "output_type": "stream",
          "name": "stdout",
          "text": [
            "problem_size = 10; fitness_func = onemax; crossover_method = UX\n",
            "# MRPS  # num_evaluations  # random_seed\n",
            "16 116.8 19521432\n",
            "16 112.0 19521442\n",
            "18 124.2 19521452\n",
            "18 136.8 19521462\n",
            "28 196.0 19521472\n",
            "22 167.2 19521482\n",
            "24 160.8 19521492\n",
            "22 162.8 19521502\n",
            "16 128.0 19521512\n",
            "16 120.0 19521522\n",
            "MRPS of 10 successful bisections: [16, 16, 18, 18, 28, 22, 24, 22, 16, 16]\n",
            "num_evaluations of 10 successful bisections: [116.8, 112.0, 124.2, 136.8, 196.0, 167.2, 160.8, 162.8, 128.0, 120.0]\n",
            "Mean and std of MRPS: 19.600 3.980\n",
            "Mean and std of num_evaluations: 142.460 26.256\n"
          ]
        }
      ]
    },
    {
      "cell_type": "code",
      "source": [
        "run_10_bisection(10, trap_5, \"1X\")"
      ],
      "metadata": {
        "colab": {
          "base_uri": "https://localhost:8080/"
        },
        "id": "Dlr71njoc2gL",
        "outputId": "9033dfb8-f8bc-4094-8175-69297198cd75"
      },
      "execution_count": null,
      "outputs": [
        {
          "output_type": "stream",
          "name": "stdout",
          "text": [
            "problem_size = 10; fitness_func = trap_5; crossover_method = 1X\n",
            "# MRPS  # num_evaluations  # random_seed\n",
            "128 1164.8 19521432\n",
            "136 1047.2 19521442\n",
            "136 1183.2 19521452\n",
            "104 936.0 19521462\n",
            "120 1056.0 19521472\n",
            "136 1237.6 19521482\n",
            "136 1088.0 19521492\n",
            "136 1196.8 19521502\n",
            "88 809.6 19521512\n",
            "128 1113.6 19521522\n",
            "MRPS of 10 successful bisections: [128, 136, 136, 104, 120, 136, 136, 136, 88, 128]\n",
            "num_evaluations of 10 successful bisections: [1164.8, 1047.2, 1183.2, 936.0, 1056.0, 1237.6, 1088.0, 1196.8, 809.6, 1113.6]\n",
            "Mean and std of MRPS: 124.800 15.677\n",
            "Mean and std of num_evaluations: 1083.280 123.657\n"
          ]
        }
      ]
    }
  ],
  "metadata": {
    "colab": {
      "collapsed_sections": [],
      "provenance": []
    },
    "kernelspec": {
      "display_name": "Python 3",
      "name": "python3"
    },
    "language_info": {
      "name": "python"
    }
  },
  "nbformat": 4,
  "nbformat_minor": 0
}