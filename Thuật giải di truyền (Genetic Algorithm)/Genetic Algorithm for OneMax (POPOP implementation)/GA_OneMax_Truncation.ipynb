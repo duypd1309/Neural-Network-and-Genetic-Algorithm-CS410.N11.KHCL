{
  "cells": [
    {
      "cell_type": "code",
      "execution_count": null,
      "metadata": {
        "collapsed": true,
        "id": "r__fmusqNNuu"
      },
      "outputs": [],
      "source": [
        "import numpy as np"
      ]
    },
    {
      "cell_type": "code",
      "execution_count": null,
      "metadata": {
        "id": "cDw0uXxPNNuv"
      },
      "outputs": [],
      "source": [
        "def initialize_population( num_individuals, num_variables ):\n",
        "    \"\"\"\n",
        "    Khởi tạo quần thể gồm num_individuals cá thể. Mỗi cá thể có num_parameters biến.\n",
        "    \n",
        "    Arguments:\n",
        "    num_individuals -- Số lượng cá thể\n",
        "    num_variables -- Số lượng biến\n",
        "    \n",
        "    Returns:\n",
        "    pop -- Ma trận (num_individuals, num_variables ) chứa quần thể mới được khởi tạo ngẫu nhiên.\n",
        "    \"\"\"\n",
        "    \n",
        "    ### BẮT ĐẦU CODE TỪ ĐÂY ### \n",
        "    pop = np.random.randint(2, size=(num_individuals, num_variables))\n",
        "    \n",
        "    ### DỪNG CODE TẠI ĐÂY ###\n",
        "    \n",
        "    return pop"
      ]
    },
    {
      "cell_type": "code",
      "execution_count": null,
      "metadata": {
        "colab": {
          "base_uri": "https://localhost:8080/"
        },
        "id": "B2mFFli0fUCH",
        "outputId": "38b81425-074c-4b13-dc76-05c62f44acb0"
      },
      "outputs": [
        {
          "name": "stdout",
          "output_type": "stream",
          "text": [
            "[[0 1 0 0]\n",
            " [0 1 0 0]\n",
            " [0 1 0 0]\n",
            " [0 0 1 0]\n",
            " [1 1 1 0]\n",
            " [1 0 1 1]\n",
            " [1 1 1 1]\n",
            " [1 1 0 0]]\n"
          ]
        }
      ],
      "source": [
        "np.random.seed(42)\n",
        "pop = initialize_population(8,4)\n",
        "print(pop)"
      ]
    },
    {
      "cell_type": "code",
      "execution_count": null,
      "metadata": {
        "id": "sexPh34MNNuw"
      },
      "outputs": [],
      "source": [
        "def onemax( ind ):\n",
        "    \"\"\"\n",
        "    Hàm đánh giá OneMax: Đếm số bit 1 trong chuỗi nhị phân (cá thể ind).\n",
        "    \n",
        "    Arguments:\n",
        "    ind -- Cá thể cần được đánh giá.\n",
        "\n",
        "    Returns:\n",
        "    value -- Giá trị của cá thể ind.\n",
        "    \"\"\"\n",
        "    \n",
        "    ### BẮT ĐẦU CODE TỪ ĐÂY ###     \n",
        "    value = np.sum(ind)\n",
        "    \n",
        "    ### DỪNG CODE TẠI ĐÂY ###\n",
        "    \n",
        "    return value"
      ]
    },
    {
      "cell_type": "code",
      "execution_count": null,
      "metadata": {
        "colab": {
          "base_uri": "https://localhost:8080/"
        },
        "id": "m-wgJivufTUG",
        "outputId": "db3b39f8-8265-4afa-92c6-ea6613df3749"
      },
      "outputs": [
        {
          "data": {
            "text/plain": [
              "3"
            ]
          },
          "execution_count": 5,
          "metadata": {},
          "output_type": "execute_result"
        }
      ],
      "source": [
        "onemax(pop[5,:])"
      ]
    },
    {
      "cell_type": "code",
      "execution_count": null,
      "metadata": {
        "id": "RWOJbcSCn3mz"
      },
      "outputs": [],
      "source": [
        "def truncation_selection(pop, pop_fitness, selection_size):\n",
        "    selected_indices = np.argsort(pop_fitness)[-selection_size:]\n",
        "    return selected_indices"
      ]
    },
    {
      "cell_type": "code",
      "execution_count": null,
      "metadata": {
        "colab": {
          "background_save": true
        },
        "id": "KYtI5HO2NNuy"
      },
      "outputs": [],
      "source": [
        "def crossover( pop ):\n",
        "    \"\"\"\n",
        "    Hàm biến đổi tạo ra các cá thể con.\n",
        "    \n",
        "    Arguments:\n",
        "    pop -- Quàn thể hiện tại.\n",
        "\n",
        "    Returns:\n",
        "    offspring -- Quần thể chứa các cá thể con được sinh ra.\n",
        "    \"\"\"  \n",
        "    \n",
        "    ### BẮT ĐẦU CODE TỪ ĐÂY ### \n",
        "    num_individuals = len(pop)\n",
        "    num_parameters = len(pop[0])\n",
        "    indices = np.arange(num_individuals)\n",
        "    # Đảo ngẫu nhiên thứ tự các cá thể trong quần thể\n",
        "    np.random.shuffle(indices)\n",
        "    offspring = []\n",
        "    \n",
        "    for i in range(0, num_individuals, 2):\n",
        "        idx1 = indices[i]\n",
        "        idx2 = indices[i+1]\n",
        "        offspring1 = list(pop[idx1])\n",
        "        offspring2 = list(pop[idx2])\n",
        "        \n",
        "        # Cài đặt phép lai đồng nhất uniform crossover. \n",
        "        # Không cần cài đặt đột biến mutation.\n",
        "        for idx in range(0, num_parameters):\n",
        "            r = np.random.rand()\n",
        "            if r < 0.5:\n",
        "                temp = offspring2[idx] \n",
        "                offspring2[idx] = offspring1[idx]\n",
        "                offspring1[idx] = temp\n",
        "\n",
        "        offspring.append(offspring1)\n",
        "        offspring.append(offspring2)\n",
        "\n",
        "\n",
        "    ### DỪNG CODE TẠI ĐÂY ###\n",
        "    \n",
        "    offspring = np.array(offspring)\n",
        "    return offspring"
      ]
    },
    {
      "cell_type": "code",
      "execution_count": null,
      "metadata": {
        "id": "YPG8Ayu_yzwC"
      },
      "outputs": [],
      "source": [
        "def mutation(pop, mutation_prob):\n",
        "    num_individuals = len(pop)\n",
        "    num_parameters = len(pop[0])\n",
        "    for i in range(0, num_individuals):\n",
        "        for j in range(0, num_parameters):\n",
        "            r = np.random.rand()\n",
        "            if r < mutation_prob:\n",
        "                if pop[i][j] == 0:\n",
        "                    pop[i][j] = 1\n",
        "                else:\n",
        "                    pop[i][j] = 0\n",
        "    \n",
        "    return pop"
      ]
    },
    {
      "cell_type": "code",
      "execution_count": null,
      "metadata": {
        "colab": {
          "background_save": true
        },
        "id": "s-tug82wvrIV"
      },
      "outputs": [],
      "source": [
        "def genetic_algorithm(num_individuals, num_parameters, num_generations):\n",
        "    pop = initialize_population(num_individuals, num_parameters)\n",
        "    pop_fitness = np.array([onemax(ind) for ind in pop])\n",
        "    print(\"#Gen 0:\")\n",
        "    print(pop_fitness)\n",
        "\n",
        "    selection_size = num_individuals // 2\n",
        "\n",
        "    for i in range(num_generations):\n",
        "        selected_indices = truncation_selection( pop, pop_fitness, selection_size )\n",
        "        selection_set = pop[selected_indices]\n",
        "        selection_fitness = pop_fitness[selected_indices]\n",
        "\n",
        "        offspring = crossover(selection_set)\n",
        "        offspring = mutation(offspring, 0.1)\n",
        "        offspring_fitness = np.array([onemax(ind) for ind in offspring])\n",
        "\n",
        "        pop = np.vstack([selection_set, offspring])\n",
        "        pop_fitness = np.concatenate((selection_fitness, offspring_fitness))\n",
        "\n",
        "        print(f'#Gen {i+1}:')\n",
        "        print(pop_fitness)\n",
        "    \n",
        "    print('#Final result:')\n",
        "    print(pop)\n",
        "    print(pop_fitness)\n"
      ]
    },
    {
      "cell_type": "code",
      "execution_count": null,
      "metadata": {
        "colab": {
          "base_uri": "https://localhost:8080/"
        },
        "id": "_M6RxNZxxw8u",
        "outputId": "26c3ad61-760b-4247-96da-9b56b6594b0b"
      },
      "outputs": [
        {
          "name": "stdout",
          "output_type": "stream",
          "text": [
            "#Gen 0:\n",
            "[3 4 6 4]\n",
            "#Gen 1:\n",
            "[4 6 5 5]\n",
            "#Gen 2:\n",
            "[5 6 5 6]\n",
            "#Gen 3:\n",
            "[6 6 7 6]\n",
            "#Gen 4:\n",
            "[6 7 6 7]\n",
            "#Gen 5:\n",
            "[7 7 7 8]\n",
            "#Gen 6:\n",
            "[7 8 5 6]\n",
            "#Gen 7:\n",
            "[7 8 5 7]\n",
            "#Gen 8:\n",
            "[7 8 9 8]\n",
            "#Gen 9:\n",
            "[8 9 7 9]\n",
            "#Gen 10:\n",
            "[9 9 9 7]\n",
            "#Final result:\n",
            "[[1 1 1 1 1 1 0 1 1 1]\n",
            " [1 1 1 1 1 1 0 1 1 1]\n",
            " [1 1 1 1 1 1 0 1 1 1]\n",
            " [1 0 1 1 1 1 0 1 0 1]]\n",
            "[9 9 9 7]\n"
          ]
        }
      ],
      "source": [
        "num_parameters = 10\n",
        "num_individuals = 4\n",
        "num_generations = 10\n",
        "genetic_algorithm(num_individuals, num_parameters, num_generations)"
      ]
    },
    {
      "cell_type": "code",
      "execution_count": null,
      "metadata": {
        "collapsed": true,
        "id": "dlTkpJTYNNu3"
      },
      "outputs": [],
      "source": []
    }
  ],
  "metadata": {
    "anaconda-cloud": {},
    "colab": {
      "provenance": []
    },
    "kernelspec": {
      "display_name": "Python [Root]",
      "language": "python",
      "name": "Python [Root]"
    },
    "language_info": {
      "codemirror_mode": {
        "name": "ipython",
        "version": 2
      },
      "file_extension": ".py",
      "mimetype": "text/x-python",
      "name": "python",
      "nbconvert_exporter": "python",
      "pygments_lexer": "ipython2",
      "version": "2.7.12"
    }
  },
  "nbformat": 4,
  "nbformat_minor": 0
}