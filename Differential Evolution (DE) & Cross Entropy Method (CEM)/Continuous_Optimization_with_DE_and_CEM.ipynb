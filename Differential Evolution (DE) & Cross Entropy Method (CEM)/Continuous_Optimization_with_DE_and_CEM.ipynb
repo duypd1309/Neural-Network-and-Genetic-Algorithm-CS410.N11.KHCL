{
  "nbformat": 4,
  "nbformat_minor": 0,
  "metadata": {
    "colab": {
      "provenance": []
    },
    "kernelspec": {
      "name": "python3",
      "display_name": "Python 3"
    },
    "language_info": {
      "name": "python"
    }
  },
  "cells": [
    {
      "cell_type": "markdown",
      "source": [
        "# **Import Libraries**\n"
      ],
      "metadata": {
        "id": "vV-vIpG61ShN"
      }
    },
    {
      "cell_type": "code",
      "execution_count": null,
      "metadata": {
        "id": "baEOO2LK0Voc"
      },
      "outputs": [],
      "source": [
        "import numpy as np \n",
        "import matplotlib.pyplot as plt"
      ]
    },
    {
      "cell_type": "markdown",
      "source": [
        "# **Objective Functions**"
      ],
      "metadata": {
        "id": "MYDRKUxn2FbS"
      }
    },
    {
      "cell_type": "code",
      "source": [
        "# Sphere\n",
        "def sphere(x):\n",
        "    f = 0\n",
        "    for i in x:\n",
        "        f += i**2\n",
        "    return f\n",
        "\n",
        "# Zakharov\n",
        "def zakharov(x):\n",
        "    f1 = 0\n",
        "    for i in x:\n",
        "        f1 += i ** 2\n",
        "\n",
        "    f2 = 0\n",
        "    for i in range(len(x)):\n",
        "        f2 += 0.5*(i+1)*x[i]\n",
        "    f2 = f2**2\n",
        "\n",
        "    f3 = f2**2\n",
        "\n",
        "    return f1 + f2 + f3\n",
        "\n",
        "# Rosenbrock\n",
        "def rosenbrock(x):\n",
        "    f = 0\n",
        "    for i in range(len(x)-1):\n",
        "        f += (100 * ((x[i+1] - x[i]**2))**2 + (x[i] - 1)**2)  \n",
        "    return f\n",
        "\n",
        "# Michalewicz \n",
        "def michalewicz(x):\n",
        "    f = 0\n",
        "    m = 10\n",
        "    for i in range(len(x)):\n",
        "        f += np.sin(x[i]) * (np.sin( ((i+1)*x[i]**2) / np.pi ))**(2*m)\n",
        "\n",
        "    return -f\n",
        "\n",
        "# Ackley \n",
        "def ackley(x):\n",
        "    a = 20\n",
        "    b = 0.2 \n",
        "    c = 2*np.pi\n",
        "\n",
        "    return -a * np.exp(-b * np.sqrt(np.sum(x**2)/len(x))) - np.exp(np.sum(np.cos(c*x))/len(x)) + a + np.exp(1)"
      ],
      "metadata": {
        "id": "134PW4oC2E5g"
      },
      "execution_count": null,
      "outputs": []
    },
    {
      "cell_type": "markdown",
      "source": [
        "# **Differential Evolution (DE)**"
      ],
      "metadata": {
        "id": "CH16DRjR1y5U"
      }
    },
    {
      "cell_type": "code",
      "source": [
        "def de(fobj, bounds, F_scale, cross_prob, popsize, max_evals, random_seed):\n",
        "    np.random.seed(random_seed)\n",
        "    \n",
        "    generation = 0\n",
        "    num_evals = 0\n",
        "\n",
        "    dimensions = len(bounds)\n",
        "\n",
        "    lower_bound, upper_bound = np.asarray(bounds).T\n",
        "\n",
        "    diff = np.fabs(lower_bound - upper_bound)\n",
        "\n",
        "    pop = lower_bound + diff * np.random.rand(popsize, dimensions)\n",
        "\n",
        "    fitness = np.asarray([fobj(ind) for ind in pop])\n",
        "    num_evals += popsize\n",
        "\n",
        "    best_idx = np.argmin(fitness)\n",
        "\n",
        "    best = pop[best_idx]\n",
        "\n",
        "    results = []\n",
        "    all_pops = []\n",
        "    results.append((np.copy(best), fitness[best_idx], generation))\n",
        "    all_pops.append(np.copy(pop))\n",
        "    while True:\n",
        "        if num_evals > max_evals:\n",
        "            break\n",
        "\n",
        "        for i in range(popsize):\n",
        "            idxs = [idx for idx in range(popsize) if idx != i]\n",
        "            a, b, c = pop[np.random.choice(idxs, 3, replace=False)]\n",
        "            mutant = np.clip(a + F_scale * (b-c), lower_bound, upper_bound)\n",
        "\n",
        "            cross_points = np.random.rand(dimensions) < cross_prob\n",
        "            if not np.any(cross_points):\n",
        "                cross_points[np.random.randint(0, dimensions)] = True\n",
        "            \n",
        "            trial = np.where(cross_points, mutant, pop[i])\n",
        "\n",
        "            f = fobj(trial)\n",
        "            num_evals += 1\n",
        "\n",
        "            if f < fitness[i]:\n",
        "                fitness[i] = f\n",
        "                pop[i] = trial\n",
        "                if f < fitness[best_idx]:\n",
        "                    best_idx = i\n",
        "                    best = trial\n",
        "        \n",
        "        generation += 1\n",
        "        results.append((np.copy(best), fitness[best_idx], num_evals, generation))\n",
        "        all_pops.append(np.copy(pop))\n",
        "        \n",
        "        if np.all(np.isclose(pop, best)):\n",
        "            break\n",
        "\n",
        "    return results, all_pops"
      ],
      "metadata": {
        "id": "ak4G5_Rs1cPX"
      },
      "execution_count": null,
      "outputs": []
    },
    {
      "cell_type": "code",
      "source": [
        "fobj = ackley\n",
        "bounds = [(-33,33)]\n",
        "dimensions = 10\n",
        "F_scale = 0.8\n",
        "cross_prob = 0.7\n",
        "popsize = 1024\n",
        "max_evals = 1e6\n",
        "random_seed = 19521432\n",
        "\n",
        "all_results = []\n",
        "for _ in range(10):\n",
        "    results, all_pops = de(fobj, bounds*dimensions, F_scale, cross_prob, popsize, max_evals, random_seed)\n",
        "    all_results.append(results[-1])\n",
        "    random_seed += 1"
      ],
      "metadata": {
        "id": "iYGDszzB2hcx"
      },
      "execution_count": null,
      "outputs": []
    },
    {
      "cell_type": "code",
      "source": [
        "print(f\"fobj={fobj.__name__}  d={dimensions}  n={popsize}\" )\n",
        "print(\"# best_individual  # fitness  # num_evals  # generation\")\n",
        "all_results"
      ],
      "metadata": {
        "colab": {
          "base_uri": "https://localhost:8080/"
        },
        "id": "RTw8l6lCNH-P",
        "outputId": "0020db54-afac-4252-9415-150177ec22b0"
      },
      "execution_count": null,
      "outputs": [
        {
          "output_type": "stream",
          "name": "stdout",
          "text": [
            "fobj=ackley  d=10  n=1024\n",
            "# best_individual  # fitness  # num_evals  # generation\n"
          ]
        },
        {
          "output_type": "execute_result",
          "data": {
            "text/plain": [
              "[(array([ 8.20843904e-07,  3.97804650e-05,  3.33820346e-04, -1.43183527e-04,\n",
              "         -1.35531539e-04,  1.86188161e-04,  2.76982581e-04,  1.60977582e-04,\n",
              "         -5.69119894e-05,  8.65051499e-05]),\n",
              "  0.0006943145208571089,\n",
              "  1000448,\n",
              "  976),\n",
              " (array([-2.32607230e-04,  8.74564759e-05,  2.60709350e-04, -3.34779575e-04,\n",
              "          2.04885052e-04, -2.21437217e-04, -1.58141805e-04, -1.76775622e-04,\n",
              "         -2.10997952e-04, -1.00746159e-04]),\n",
              "  0.0008449707846343024,\n",
              "  1000448,\n",
              "  976),\n",
              " (array([ 3.34287666e-05,  3.46719956e-04, -7.02198621e-05,  2.73139768e-04,\n",
              "          4.56913254e-06, -1.86226483e-04,  2.25216592e-04,  6.06321170e-05,\n",
              "         -2.15754504e-06,  1.59005549e-04]),\n",
              "  0.0007118966488026679,\n",
              "  1000448,\n",
              "  976),\n",
              " (array([-5.01296583e-05,  1.71191627e-04, -7.66461740e-05,  1.35204648e-04,\n",
              "         -1.77401467e-04,  4.15836645e-04,  9.21388440e-04,  2.78210272e-04,\n",
              "         -6.89403464e-04,  1.06621677e-03]),\n",
              "  0.002131060079296976,\n",
              "  1000448,\n",
              "  976),\n",
              " (array([ 7.35352531e-04, -5.26714383e-04, -2.00152699e-04, -2.64170280e-04,\n",
              "         -2.30367465e-04, -3.70647751e-05, -2.89490461e-05,  2.45954739e-04,\n",
              "          2.55499388e-04, -1.75437097e-04]),\n",
              "  0.0013565378100506287,\n",
              "  1000448,\n",
              "  976),\n",
              " (array([ 7.98221397e-05,  9.04391562e-04, -1.03443969e-04, -3.49889817e-04,\n",
              "          1.29439007e-04,  6.45965471e-04,  4.36479448e-04, -9.45736008e-05,\n",
              "         -1.22962423e-04,  7.45379426e-04]),\n",
              "  0.001871238339923753,\n",
              "  1000448,\n",
              "  976),\n",
              " (array([-5.22264877e-04, -2.68269148e-04,  2.62199723e-04, -2.66699112e-04,\n",
              "         -1.49094233e-04,  2.91182196e-04, -4.77264479e-04, -3.08074494e-05,\n",
              "          2.40090004e-04, -6.61384155e-05]),\n",
              "  0.001192887875970161,\n",
              "  1000448,\n",
              "  976),\n",
              " (array([-1.53973860e-04, -1.81426109e-04, -2.57967617e-04, -1.19408082e-04,\n",
              "         -2.19162690e-04,  9.57129157e-05, -4.98609426e-05,  3.01997905e-04,\n",
              "          8.72592873e-05, -1.94879100e-04]),\n",
              "  0.0007326988898417319,\n",
              "  1000448,\n",
              "  976),\n",
              " (array([-7.82644264e-05, -2.37291926e-04,  1.60930407e-04, -7.26267571e-05,\n",
              "          6.40293737e-05,  4.88905589e-06, -1.70516281e-04,  6.81566687e-05,\n",
              "         -1.03779255e-04, -3.75250048e-05]),\n",
              "  0.00048014631869053304,\n",
              "  1000448,\n",
              "  976),\n",
              " (array([-3.30047028e-05, -4.12694877e-04, -2.50999500e-04, -1.56426565e-04,\n",
              "          1.61725607e-04, -6.42374559e-04, -2.48353752e-04, -3.12017340e-04,\n",
              "          3.18667764e-04, -2.23550999e-04]),\n",
              "  0.001275478329141766,\n",
              "  1000448,\n",
              "  976)]"
            ]
          },
          "metadata": {},
          "execution_count": 93
        }
      ]
    },
    {
      "cell_type": "code",
      "source": [
        "print(f\"Giá trị trung bình (mean) khi chạy DE với hàm {fobj.__name__} (d={dimensions}, n={popsize}): {np.mean([all_results[i][1] for i in range(len(all_results))])}\")\n",
        "print(f\"Độ lệch chuẩn (std) khi chạy DE với hàm {fobj.__name__} (d={dimensions}, n={popsize}): {np.std([all_results[i][1] for i in range(len(all_results))])}\")\n",
        "print(f\"Trung bình số lần gọi hàm đánh giá (num_evals) khi chạy DE với hàm {fobj.__name__} (d={dimensions}, n={popsize}): {np.mean([all_results[i][2] for i in range(len(all_results))])}\")"
      ],
      "metadata": {
        "colab": {
          "base_uri": "https://localhost:8080/"
        },
        "id": "BaZpQF57bBnY",
        "outputId": "f95e8c36-4c63-46bd-d5a8-dc205f1108df"
      },
      "execution_count": null,
      "outputs": [
        {
          "output_type": "stream",
          "name": "stdout",
          "text": [
            "Giá trị trung bình (mean) khi chạy DE với hàm ackley (d=10, n=1024): 0.0011291229597209628\n",
            "Độ lệch chuẩn (std) khi chạy DE với hàm ackley (d=10, n=1024): 0.0005151716177537138\n",
            "Trung bình số lần gọi hàm đánh giá (num_evals) khi chạy DE với hàm ackley (d=10, n=1024): 1000448.0\n"
          ]
        }
      ]
    },
    {
      "cell_type": "markdown",
      "source": [
        "# **Cross-Entropy Method (CEM) (bản cải tiến)**"
      ],
      "metadata": {
        "id": "QqH73GQh7n14"
      }
    },
    {
      "cell_type": "code",
      "source": [
        "def cem(fobj, bounds, sigma_init, num_elite, extra_variance, popsize, max_evals, random_seed):\n",
        "    np.random.seed(random_seed)\n",
        "    gen = 0 \n",
        "    num_evals = 0\n",
        "    dimensions = len(bounds)\n",
        "\n",
        "    lower_bound, upper_bound = np.asarray(bounds).T\n",
        "\n",
        "    diff = np.fabs(lower_bound - upper_bound)\n",
        "\n",
        "    mu = lower_bound + diff * np.random.rand(dimensions)\n",
        "\n",
        "    mu_fitness = fobj(mu)\n",
        "    num_evals += 1\n",
        "\n",
        "    sigma = sigma_init * np.eye(dimensions)\n",
        "\n",
        "    results = []\n",
        "    results.append((np.copy(mu), mu_fitness, num_evals, gen))\n",
        "\n",
        "    while True:\n",
        "        if num_evals > max_evals:\n",
        "            break\n",
        "        \n",
        "        search_points = np.random.multivariate_normal(mu, sigma, popsize)\n",
        "        if np.all(np.isclose(search_points, mu)):\n",
        "            break\n",
        "        fitness = np.asarray([fobj(search_points[i]) for i in range(popsize)])\n",
        "        num_evals += popsize\n",
        "        elite_idx = fitness.argsort()[:num_elite]\n",
        "        elite_search_points = np.asarray([search_points[i] for i in elite_idx])\n",
        "\n",
        "        simga = np.zeros_like(sigma)\n",
        "        for i in range(num_elite):\n",
        "            z = elite_search_points[i] - mu\n",
        "            z = z.reshape(-1, 1)\n",
        "            sigma += np.dot(z, z.T)\n",
        "        \n",
        "        sigma += extra_variance * np.eye(dimensions)\n",
        "        sigma *= (1/num_elite)\n",
        "        \n",
        "        mu = np.mean(elite_search_points, axis=0)\n",
        "        mu_fitness = fobj(mu)\n",
        "        \n",
        "        gen += 1\n",
        "\n",
        "        results.append((np.copy(mu), mu_fitness, num_evals, gen))\n",
        "        \n",
        "    return results"
      ],
      "metadata": {
        "id": "vKPMGSqA70Ma"
      },
      "execution_count": null,
      "outputs": []
    },
    {
      "cell_type": "code",
      "source": [
        "fobj = ackley\n",
        "bounds = [(-33,33)]\n",
        "dimensions = 10\n",
        "sigma_init = 1\n",
        "num_elite = 10\n",
        "extra_variance = 0.01\n",
        "popsize = 1024\n",
        "max_evals = 1e6\n",
        "random_seed = 19521432\n",
        "\n",
        "all_results = []\n",
        "for _ in range(10):\n",
        "    results = cem(fobj, bounds*dimensions, sigma_init, num_elite, extra_variance, popsize, max_evals, random_seed)\n",
        "    all_results.append(results[-1])\n",
        "    random_seed += 1"
      ],
      "metadata": {
        "id": "KfQBnuotyIvW"
      },
      "execution_count": null,
      "outputs": []
    },
    {
      "cell_type": "code",
      "source": [
        "print(f\"fobj={fobj.__name__}  d={dimensions}  n={popsize}\" )\n",
        "print(\"# best_individual  # fitness  # num_evals  # generation\")\n",
        "all_results"
      ],
      "metadata": {
        "colab": {
          "base_uri": "https://localhost:8080/"
        },
        "id": "qvae7bS5yobt",
        "outputId": "89f50570-89dd-4c34-87e7-ad0cb9f7b381"
      },
      "execution_count": null,
      "outputs": [
        {
          "output_type": "stream",
          "name": "stdout",
          "text": [
            "fobj=ackley  d=10  n=1024\n",
            "# best_individual  # fitness  # num_evals  # generation\n"
          ]
        },
        {
          "output_type": "execute_result",
          "data": {
            "text/plain": [
              "[(array([ -0.99561319,  -7.9982867 , -18.00724614,  12.99628786,\n",
              "           2.99852329, -20.00032678,   0.99643756,  16.99977712,\n",
              "          19.00520674,  23.00004236]), 18.933555937853892, 1000449, 977),\n",
              " (array([  2.00337272,  -0.9995851 ,   3.99174977,  19.99461009,\n",
              "          -6.99886781,   9.99080632,  14.98865697,  -6.99595546,\n",
              "         -10.99042493,  -3.00298673]), 17.220900486621073, 1000449, 977),\n",
              " (array([ -6.99611118,   1.9895602 ,  19.99864478,   7.99525622,\n",
              "           6.00158896, -30.00699705, -23.99204831, -16.00096608,\n",
              "           5.99123379, -15.99813442]), 19.195052719433722, 1000449, 977),\n",
              " (array([ -0.99784091,  24.00025993, -28.00319105,  22.99251542,\n",
              "          12.99907984,  20.99990331,   0.99545323, -22.00055147,\n",
              "          -0.9909144 ,  -4.99652647]), 19.37886239367085, 1000449, 977),\n",
              " (array([-23.00270145, -10.00398161, -23.99169305, -13.99484549,\n",
              "          27.98942163,  26.00925933, -11.99857008,  -2.99965693,\n",
              "          26.99599187,  -0.99576764]), 19.584521053572566, 1000449, 977),\n",
              " (array([-29.99570738, -17.00764986,  24.00103408, -18.99394182,\n",
              "         -14.00242017,  20.99540564, -30.00458931,  31.99838518,\n",
              "         -19.00465603, -26.99300351]), 19.83780914971152, 1000449, 977),\n",
              " (array([ -7.00086938, -15.9943217 , -20.99212949, -15.9954379 ,\n",
              "          19.00133076, -11.99610668,  21.999336  , -16.99451095,\n",
              "          -3.99516332, -22.99858991]), 19.30696452106842, 1000449, 977),\n",
              " (array([ 12.00370533, -17.99632076,   5.00495518,  -0.99779477,\n",
              "         -13.99202109,  24.99626305,  -8.00150877,  14.00380793,\n",
              "         -12.00196983,   9.98917652]), 18.65341163177791, 1000449, 977),\n",
              " (array([-4.99917054e+00, -1.09952413e+01,  7.00711153e+00, -4.85369716e-03,\n",
              "         -9.99532286e+00,  7.99884412e+00, -1.79839943e+01, -7.99673658e+00,\n",
              "          3.00020406e+00,  1.19943681e+01]), 17.000179694504006, 1000449, 977),\n",
              " (array([-15.99881908,  -4.0054247 ,  28.00207409, -14.99706873,\n",
              "         -11.00282526,  12.99648745, -29.99194248,   2.00236148,\n",
              "          -4.99515209,  10.99986205]), 19.215671256280366, 1000449, 977)]"
            ]
          },
          "metadata": {},
          "execution_count": 20
        }
      ]
    },
    {
      "cell_type": "code",
      "source": [
        "print(f\"Giá trị trung bình (mean) khi chạy CEM với hàm {fobj.__name__} (d={dimensions}, n={popsize}): {np.mean([all_results[i][1] for i in range(len(all_results))])}\")\n",
        "print(f\"Độ lệch chuẩn (std) khi chạy CEM với hàm {fobj.__name__} (d={dimensions}, n={popsize}): {np.std([all_results[i][1] for i in range(len(all_results))])}\")\n",
        "print(f\"Trung bình số lần gọi hàm đánh giá (num_evals) khi chạy CEM với hàm {fobj.__name__} (d={dimensions}, n={popsize}): {np.mean([all_results[i][2] for i in range(len(all_results))])}\")"
      ],
      "metadata": {
        "colab": {
          "base_uri": "https://localhost:8080/"
        },
        "id": "tRpQdbKWzDTJ",
        "outputId": "674fb50e-ba62-4c06-ef32-819260cd7aae"
      },
      "execution_count": null,
      "outputs": [
        {
          "output_type": "stream",
          "name": "stdout",
          "text": [
            "Giá trị trung bình (mean) khi chạy CEM với hàm ackley (d=10, n=1024): 18.832692884449433\n",
            "Độ lệch chuẩn (std) khi chạy CEM với hàm ackley (d=10, n=1024): 0.9151508374092646\n",
            "Trung bình số lần gọi hàm đánh giá (num_evals) khi chạy CEM với hàm ackley (d=10, n=1024): 1000449.0\n"
          ]
        }
      ]
    },
    {
      "cell_type": "markdown",
      "source": [
        "# **Plot**"
      ],
      "metadata": {
        "id": "2lrOFDI6jwU6"
      }
    },
    {
      "cell_type": "markdown",
      "source": [
        "## **Sphere**"
      ],
      "metadata": {
        "id": "IgNjwh7Wj2xW"
      }
    },
    {
      "cell_type": "markdown",
      "source": [
        "### **d=2**"
      ],
      "metadata": {
        "id": "_a6eKYV8kGyL"
      }
    },
    {
      "cell_type": "code",
      "source": [
        "# DE_128\n",
        "fobj = sphere\n",
        "bounds = [(-5.12,5.12)]\n",
        "dimensions = 2\n",
        "F_scale = 0.8\n",
        "cross_prob = 0.7\n",
        "popsize = 128\n",
        "max_evals = 1e5\n",
        "random_seed = 19521432\n",
        "\n",
        "all_results = []\n",
        "for _ in range(10):\n",
        "    results, all_pops = de(fobj, bounds*dimensions, F_scale, cross_prob, popsize, max_evals, random_seed)\n",
        "    all_results.append(results)\n",
        "    random_seed += 1\n",
        "\n",
        "f_de_128 = []\n",
        "std_de_128 = [] \n",
        "eval_de_128 = []\n",
        "\n",
        "for i in range(np.min([len(all_results[k]) for k in range(10)])):\n",
        "    f = []\n",
        "    num_evals = []\n",
        "    for j in range(10):\n",
        "        f.append(all_results[j][i][1])\n",
        "        num_evals.append(all_results[j][i][2])\n",
        "    f_de_128.append(np.mean(f))\n",
        "    std_de_128.append(np.std(f))\n",
        "    eval_de_128.append(np.mean(num_evals))"
      ],
      "metadata": {
        "id": "_kE_FTgajy_c"
      },
      "execution_count": null,
      "outputs": []
    },
    {
      "cell_type": "code",
      "source": [
        "# DE_1024\n",
        "fobj = sphere\n",
        "bounds = [(-5.12,5.12)]\n",
        "dimensions = 2\n",
        "F_scale = 0.8\n",
        "cross_prob = 0.7\n",
        "popsize = 1024\n",
        "max_evals = 1e5\n",
        "random_seed = 19521432\n",
        "\n",
        "all_results = []\n",
        "for _ in range(10):\n",
        "    results, all_pops = de(fobj, bounds*dimensions, F_scale, cross_prob, popsize, max_evals, random_seed)\n",
        "    all_results.append(results)\n",
        "    random_seed += 1\n",
        "\n",
        "f_de_1024 = []\n",
        "std_de_1024 = [] \n",
        "eval_de_1024 = []\n",
        "\n",
        "for i in range(np.min([len(all_results[k]) for k in range(10)])):\n",
        "    f = []\n",
        "    num_evals = []\n",
        "    for j in range(10):\n",
        "        f.append(all_results[j][i][1])\n",
        "        num_evals.append(all_results[j][i][2])\n",
        "    f_de_1024.append(np.mean(f))\n",
        "    std_de_1024.append(np.std(f))\n",
        "    eval_de_1024.append(np.mean(num_evals))"
      ],
      "metadata": {
        "id": "atiE-wIGoYgi"
      },
      "execution_count": null,
      "outputs": []
    },
    {
      "cell_type": "code",
      "source": [
        "# CEM_128\n",
        "fobj = sphere\n",
        "bounds = [(-5.12,5.12)]\n",
        "dimensions = 2\n",
        "sigma_init = 1\n",
        "num_elite = 10\n",
        "extra_variance = 0.01\n",
        "popsize = 128\n",
        "max_evals = 1e5\n",
        "random_seed = 19521432\n",
        "\n",
        "all_results = []\n",
        "for _ in range(10):\n",
        "    results = cem(fobj, bounds*dimensions, sigma_init, num_elite, extra_variance, popsize, max_evals, random_seed)\n",
        "    all_results.append(results)\n",
        "    random_seed += 1\n",
        "\n",
        "f_cem_128 = []\n",
        "std_cem_128 = [] \n",
        "eval_cem_128 = []\n",
        "\n",
        "for i in range(np.min([len(all_results[k]) for k in range(10)])):\n",
        "    f = []\n",
        "    num_evals = []\n",
        "    for j in range(10):\n",
        "        f.append(all_results[j][i][1])\n",
        "        num_evals.append(all_results[j][i][2])\n",
        "    f_cem_128.append(np.mean(f))\n",
        "    std_cem_128.append(np.std(f))\n",
        "    eval_cem_128.append(np.mean(num_evals))"
      ],
      "metadata": {
        "id": "LUyXSOx9q7aU"
      },
      "execution_count": null,
      "outputs": []
    },
    {
      "cell_type": "code",
      "source": [
        "# CEM_1024\n",
        "fobj = sphere\n",
        "bounds = [(-5.12,5.12)]\n",
        "dimensions = 2\n",
        "sigma_init = 1\n",
        "num_elite = 10\n",
        "extra_variance = 0.01\n",
        "popsize = 1024\n",
        "max_evals = 1e5\n",
        "random_seed = 19521432\n",
        "\n",
        "all_results = []\n",
        "for _ in range(10):\n",
        "    results = cem(fobj, bounds*dimensions, sigma_init, num_elite, extra_variance, popsize, max_evals, random_seed)\n",
        "    all_results.append(results)\n",
        "    random_seed += 1\n",
        "\n",
        "f_cem_1024 = []\n",
        "std_cem_1024 = [] \n",
        "eval_cem_1024 = []\n",
        "\n",
        "for i in range(np.min([len(all_results[k]) for k in range(10)])):\n",
        "    f = []\n",
        "    num_evals = []\n",
        "    for j in range(10):\n",
        "        f.append(all_results[j][i][1])\n",
        "        num_evals.append(all_results[j][i][2])\n",
        "    f_cem_1024.append(np.mean(f))\n",
        "    std_cem_1024.append(np.std(f))\n",
        "    eval_cem_1024.append(np.mean(num_evals))"
      ],
      "metadata": {
        "id": "ZR31tYHdq7wm"
      },
      "execution_count": null,
      "outputs": []
    },
    {
      "cell_type": "code",
      "source": [
        "error_pos_de_128, error_neg_de_128 = [], []\n",
        "for i in range(len(f_de_128)):\n",
        "    error_pos_de_128.append(f_de_128[i] + std_de_128[i])\n",
        "    error_neg_de_128.append(f_de_128[i] - std_de_128[i])\n",
        "\n",
        "error_pos_de_1024, error_neg_de_1024 = [], []\n",
        "for i in range(len(f_de_1024)):\n",
        "    error_pos_de_1024.append(f_de_1024[i] + std_de_1024[i])\n",
        "    error_neg_de_1024.append(f_de_1024[i] - std_de_1024[i])\n",
        "\n",
        "error_pos_cem_128, error_neg_cem_128 = [], []\n",
        "for i in range(len(f_cem_128)):\n",
        "    error_pos_cem_128.append(f_cem_128[i] + std_cem_128[i])\n",
        "    error_neg_cem_128.append(f_cem_128[i] - std_cem_128[i])\n",
        "\n",
        "error_pos_cem_1024, error_neg_cem_1024 = [], []\n",
        "for i in range(len(f_cem_1024)):\n",
        "    error_pos_cem_1024.append(f_cem_1024[i] + std_cem_1024[i])\n",
        "    error_neg_cem_1024.append(f_cem_1024[i] - std_cem_1024[i])\n",
        "\n",
        "plt.figure(figsize=(12, 6))\n",
        "plt.xlim(left=0, right=2500)\n",
        "plt.ylim(-1, 10)\n",
        "\n",
        "# DE_128\n",
        "plt.plot(eval_de_128, f_de_128, label=\"DE-128\")\n",
        "plt.fill_between(eval_de_128, error_pos_de_128, error_neg_de_128, alpha = 0.2)\n",
        "\n",
        "# DE_1024\n",
        "plt.plot(eval_de_1024, f_de_1024, label=\"DE-1024\")\n",
        "plt.fill_between(eval_de_1024, error_pos_de_1024, error_neg_de_1024, alpha = 0.2)\n",
        "\n",
        "# CEM_128\n",
        "plt.plot(eval_cem_128, f_cem_128, label=\"CEM-128\")\n",
        "plt.fill_between(eval_cem_128, error_pos_cem_128, error_neg_cem_128, alpha = 0.2)\n",
        "\n",
        "# CEM_1024\n",
        "plt.plot(eval_cem_1024, f_cem_1024, label=\"CEM-1024\")\n",
        "plt.fill_between(eval_cem_1024, error_pos_cem_1024, error_neg_cem_1024, alpha = 0.2)\n",
        "\n",
        "plt.xlabel('Number of evaluations')\n",
        "plt.ylabel('Best fitness')\n",
        "plt.legend()\n",
        "plt.savefig('sphere_2.png')\n",
        "plt.show()"
      ],
      "metadata": {
        "colab": {
          "base_uri": "https://localhost:8080/",
          "height": 392
        },
        "id": "RDzbQMtFtNBQ",
        "outputId": "fcd26569-f273-425d-b80f-073c212ee6a0"
      },
      "execution_count": null,
      "outputs": [
        {
          "output_type": "display_data",
          "data": {
            "text/plain": [
              "<Figure size 864x432 with 1 Axes>"
            ],
            "image/png": "[encoded data removed]"
          },
          "metadata": {
            "needs_background": "light"
          }
        }
      ]
    },
    {
      "cell_type": "markdown",
      "source": [
        "### **d=10**"
      ],
      "metadata": {
        "id": "kImB09_L5YxP"
      }
    },
    {
      "cell_type": "code",
      "source": [
        "# DE_128\n",
        "fobj = sphere\n",
        "bounds = [(-5.12,5.12)]\n",
        "dimensions = 10\n",
        "F_scale = 0.8\n",
        "cross_prob = 0.7\n",
        "popsize = 128\n",
        "max_evals = 1e6\n",
        "random_seed = 19521432\n",
        "\n",
        "all_results = []\n",
        "for _ in range(10):\n",
        "    results, all_pops = de(fobj, bounds*dimensions, F_scale, cross_prob, popsize, max_evals, random_seed)\n",
        "    all_results.append(results)\n",
        "    random_seed += 1\n",
        "\n",
        "f_de_128 = []\n",
        "std_de_128 = [] \n",
        "eval_de_128 = []\n",
        "\n",
        "for i in range(np.min([len(all_results[k]) for k in range(10)])):\n",
        "    f = []\n",
        "    num_evals = []\n",
        "    for j in range(10):\n",
        "        f.append(all_results[j][i][1])\n",
        "        num_evals.append(all_results[j][i][2])\n",
        "    f_de_128.append(np.mean(f))\n",
        "    std_de_128.append(np.std(f))\n",
        "    eval_de_128.append(np.mean(num_evals))"
      ],
      "metadata": {
        "id": "BDF7rhU35X78"
      },
      "execution_count": null,
      "outputs": []
    },
    {
      "cell_type": "code",
      "source": [
        "# DE_1024\n",
        "fobj = sphere\n",
        "bounds = [(-5.12,5.12)]\n",
        "dimensions = 10\n",
        "F_scale = 0.8\n",
        "cross_prob = 0.7\n",
        "popsize = 1024\n",
        "max_evals = 1e6\n",
        "random_seed = 19521432\n",
        "\n",
        "all_results = []\n",
        "for _ in range(10):\n",
        "    results, all_pops = de(fobj, bounds*dimensions, F_scale, cross_prob, popsize, max_evals, random_seed)\n",
        "    all_results.append(results)\n",
        "    random_seed += 1\n",
        "\n",
        "f_de_1024 = []\n",
        "std_de_1024 = [] \n",
        "eval_de_1024 = []\n",
        "\n",
        "for i in range(np.min([len(all_results[k]) for k in range(10)])):\n",
        "    f = []\n",
        "    num_evals = []\n",
        "    for j in range(10):\n",
        "        f.append(all_results[j][i][1])\n",
        "        num_evals.append(all_results[j][i][2])\n",
        "    f_de_1024.append(np.mean(f))\n",
        "    std_de_1024.append(np.std(f))\n",
        "    eval_de_1024.append(np.mean(num_evals))"
      ],
      "metadata": {
        "id": "Z100sXfftqRT"
      },
      "execution_count": null,
      "outputs": []
    },
    {
      "cell_type": "code",
      "source": [
        "# CEM_128\n",
        "fobj = sphere\n",
        "bounds = [(-5.12,5.12)]\n",
        "dimensions = 10\n",
        "sigma_init = 1\n",
        "num_elite = 10\n",
        "extra_variance = 0.01\n",
        "popsize = 128\n",
        "max_evals = 1e6\n",
        "random_seed = 19521432\n",
        "\n",
        "all_results = []\n",
        "for _ in range(10):\n",
        "    results = cem(fobj, bounds*dimensions, sigma_init, num_elite, extra_variance, popsize, max_evals, random_seed)\n",
        "    all_results.append(results)\n",
        "    random_seed += 1\n",
        "\n",
        "f_cem_128 = []\n",
        "std_cem_128 = [] \n",
        "eval_cem_128 = []\n",
        "\n",
        "for i in range(np.min([len(all_results[k]) for k in range(10)])):\n",
        "    f = []\n",
        "    num_evals = []\n",
        "    for j in range(10):\n",
        "        f.append(all_results[j][i][1])\n",
        "        num_evals.append(all_results[j][i][2])\n",
        "    f_cem_128.append(np.mean(f))\n",
        "    std_cem_128.append(np.std(f))\n",
        "    eval_cem_128.append(np.mean(num_evals))"
      ],
      "metadata": {
        "id": "gP7O1iX751Ae"
      },
      "execution_count": null,
      "outputs": []
    },
    {
      "cell_type": "code",
      "source": [
        "# CEM_1024\n",
        "fobj = sphere\n",
        "bounds = [(-5.12,5.12)]\n",
        "dimensions = 10\n",
        "sigma_init = 1\n",
        "num_elite = 10\n",
        "extra_variance = 0.01\n",
        "popsize = 1024\n",
        "max_evals = 1e6\n",
        "random_seed = 19521432\n",
        "\n",
        "all_results = []\n",
        "for _ in range(10):\n",
        "    results = cem(fobj, bounds*dimensions, sigma_init, num_elite, extra_variance, popsize, max_evals, random_seed)\n",
        "    all_results.append(results)\n",
        "    random_seed += 1\n",
        "\n",
        "f_cem_1024 = []\n",
        "std_cem_1024 = [] \n",
        "eval_cem_1024 = []\n",
        "\n",
        "for i in range(np.min([len(all_results[k]) for k in range(10)])):\n",
        "    f = []\n",
        "    num_evals = []\n",
        "    for j in range(10):\n",
        "        f.append(all_results[j][i][1])\n",
        "        num_evals.append(all_results[j][i][2])\n",
        "    f_cem_1024.append(np.mean(f))\n",
        "    std_cem_1024.append(np.std(f))\n",
        "    eval_cem_1024.append(np.mean(num_evals))"
      ],
      "metadata": {
        "id": "u3tYG3Fz53-J"
      },
      "execution_count": null,
      "outputs": []
    },
    {
      "cell_type": "code",
      "source": [
        "error_pos_de_128, error_neg_de_128 = [], []\n",
        "for i in range(len(f_de_128)):\n",
        "    error_pos_de_128.append(f_de_128[i] + std_de_128[i])\n",
        "    error_neg_de_128.append(f_de_128[i] - std_de_128[i])\n",
        "\n",
        "error_pos_de_1024, error_neg_de_1024 = [], []\n",
        "for i in range(len(f_de_1024)):\n",
        "    error_pos_de_1024.append(f_de_1024[i] + std_de_1024[i])\n",
        "    error_neg_de_1024.append(f_de_1024[i] - std_de_1024[i])\n",
        "\n",
        "error_pos_cem_128, error_neg_cem_128 = [], []\n",
        "for i in range(len(f_cem_128)):\n",
        "    error_pos_cem_128.append(f_cem_128[i] + std_cem_128[i])\n",
        "    error_neg_cem_128.append(f_cem_128[i] - std_cem_128[i])\n",
        "\n",
        "error_pos_cem_1024, error_neg_cem_1024 = [], []\n",
        "for i in range(len(f_cem_1024)):\n",
        "    error_pos_cem_1024.append(f_cem_1024[i] + std_cem_1024[i])\n",
        "    error_neg_cem_1024.append(f_cem_1024[i] - std_cem_1024[i])\n",
        "\n",
        "plt.figure(figsize=(12, 6))\n",
        "plt.xlim(left=0, right=1e5 + 5e4)\n",
        "plt.ylim(-1, 10)\n",
        "\n",
        "# DE_128\n",
        "plt.plot(eval_de_128, f_de_128, label=\"DE-128\")\n",
        "plt.fill_between(eval_de_128, error_pos_de_128, error_neg_de_128, alpha = 0.2)\n",
        "\n",
        "# DE_1024\n",
        "plt.plot(eval_de_1024, f_de_1024, label=\"DE-1024\")\n",
        "plt.fill_between(eval_de_1024, error_pos_de_1024, error_neg_de_1024, alpha = 0.2)\n",
        "\n",
        "# CEM_128\n",
        "plt.plot(eval_cem_128, f_cem_128, label=\"CEM-128\")\n",
        "plt.fill_between(eval_cem_128, error_pos_cem_128, error_neg_cem_128, alpha = 0.2)\n",
        "\n",
        "# CEM_1024\n",
        "plt.plot(eval_cem_1024, f_cem_1024, label=\"CEM-1024\")\n",
        "plt.fill_between(eval_cem_1024, error_pos_cem_1024, error_neg_cem_1024, alpha = 0.2)\n",
        "\n",
        "plt.xlabel('Number of evaluations')\n",
        "plt.ylabel('Best fitness')\n",
        "plt.legend()\n",
        "plt.savefig('sphere_10.png')\n",
        "plt.show()"
      ],
      "metadata": {
        "colab": {
          "base_uri": "https://localhost:8080/",
          "height": 392
        },
        "id": "qb4CbVEv6B9j",
        "outputId": "f563d9a9-bf3b-4b56-c4d8-c1ad3c30cefb"
      },
      "execution_count": null,
      "outputs": [
        {
          "output_type": "display_data",
          "data": {
            "text/plain": [
              "<Figure size 864x432 with 1 Axes>"
            ],
            "image/png": "[encoded data removed]"
          },
          "metadata": {
            "needs_background": "light"
          }
        }
      ]
    },
    {
      "cell_type": "markdown",
      "source": [
        "## **Zakharov**"
      ],
      "metadata": {
        "id": "P0aB-5rJFUST"
      }
    },
    {
      "cell_type": "markdown",
      "source": [
        "### **d=2**"
      ],
      "metadata": {
        "id": "KNMAewtvFxGk"
      }
    },
    {
      "cell_type": "code",
      "source": [
        "# DE_128\n",
        "fobj = zakharov\n",
        "bounds = [(-5,10)]\n",
        "dimensions = 2\n",
        "F_scale = 0.8\n",
        "cross_prob = 0.7\n",
        "popsize = 128\n",
        "max_evals = 1e5\n",
        "random_seed = 19521432\n",
        "\n",
        "all_results = []\n",
        "for _ in range(10):\n",
        "    results, all_pops = de(fobj, bounds*dimensions, F_scale, cross_prob, popsize, max_evals, random_seed)\n",
        "    all_results.append(results)\n",
        "    random_seed += 1\n",
        "\n",
        "f_de_128 = []\n",
        "std_de_128 = [] \n",
        "eval_de_128 = []\n",
        "\n",
        "for i in range(np.min([len(all_results[k]) for k in range(10)])):\n",
        "    f = []\n",
        "    num_evals = []\n",
        "    for j in range(10):\n",
        "        f.append(all_results[j][i][1])\n",
        "        num_evals.append(all_results[j][i][2])\n",
        "    f_de_128.append(np.mean(f))\n",
        "    std_de_128.append(np.std(f))\n",
        "    eval_de_128.append(np.mean(num_evals))"
      ],
      "metadata": {
        "id": "Db6zK3CIFd9l"
      },
      "execution_count": null,
      "outputs": []
    },
    {
      "cell_type": "code",
      "source": [
        "# DE_1024\n",
        "fobj = zakharov\n",
        "bounds = [(-5,10)]\n",
        "dimensions = 2\n",
        "F_scale = 0.8\n",
        "cross_prob = 0.7\n",
        "popsize = 1024\n",
        "max_evals = 1e5\n",
        "random_seed = 19521432\n",
        "\n",
        "all_results = []\n",
        "for _ in range(10):\n",
        "    results, all_pops = de(fobj, bounds*dimensions, F_scale, cross_prob, popsize, max_evals, random_seed)\n",
        "    all_results.append(results)\n",
        "    random_seed += 1\n",
        "\n",
        "f_de_1024 = []\n",
        "std_de_1024 = [] \n",
        "eval_de_1024 = []\n",
        "\n",
        "for i in range(np.min([len(all_results[k]) for k in range(10)])):\n",
        "    f = []\n",
        "    num_evals = []\n",
        "    for j in range(10):\n",
        "        f.append(all_results[j][i][1])\n",
        "        num_evals.append(all_results[j][i][2])\n",
        "    f_de_1024.append(np.mean(f))\n",
        "    std_de_1024.append(np.std(f))\n",
        "    eval_de_1024.append(np.mean(num_evals))"
      ],
      "metadata": {
        "id": "EeUkC10EGG-7"
      },
      "execution_count": null,
      "outputs": []
    },
    {
      "cell_type": "code",
      "source": [
        "# CEM_128\n",
        "fobj = zakharov\n",
        "bounds = [(-5,10)]\n",
        "dimensions = 2\n",
        "sigma_init = 1\n",
        "num_elite = 10\n",
        "extra_variance = 0.01\n",
        "popsize = 128\n",
        "max_evals = 1e5\n",
        "random_seed = 19521432\n",
        "\n",
        "all_results = []\n",
        "for _ in range(10):\n",
        "    results = cem(fobj, bounds*dimensions, sigma_init, num_elite, extra_variance, popsize, max_evals, random_seed)\n",
        "    all_results.append(results)\n",
        "    random_seed += 1\n",
        "\n",
        "f_cem_128 = []\n",
        "std_cem_128 = [] \n",
        "eval_cem_128 = []\n",
        "\n",
        "for i in range(np.min([len(all_results[k]) for k in range(10)])):\n",
        "    f = []\n",
        "    num_evals = []\n",
        "    for j in range(10):\n",
        "        f.append(all_results[j][i][1])\n",
        "        num_evals.append(all_results[j][i][2])\n",
        "    f_cem_128.append(np.mean(f))\n",
        "    std_cem_128.append(np.std(f))\n",
        "    eval_cem_128.append(np.mean(num_evals))"
      ],
      "metadata": {
        "id": "UmmQ0AWyGRvy"
      },
      "execution_count": null,
      "outputs": []
    },
    {
      "cell_type": "code",
      "source": [
        "# CEM_1024\n",
        "fobj = zakharov\n",
        "bounds = [(-5,10)]\n",
        "dimensions = 2\n",
        "sigma_init = 1\n",
        "num_elite = 10\n",
        "extra_variance = 0.01\n",
        "popsize = 1024\n",
        "max_evals = 1e5\n",
        "random_seed = 19521432\n",
        "\n",
        "all_results = []\n",
        "for _ in range(10):\n",
        "    results = cem(fobj, bounds*dimensions, sigma_init, num_elite, extra_variance, popsize, max_evals, random_seed)\n",
        "    all_results.append(results)\n",
        "    random_seed += 1\n",
        "\n",
        "f_cem_1024 = []\n",
        "std_cem_1024 = [] \n",
        "eval_cem_1024 = []\n",
        "\n",
        "for i in range(np.min([len(all_results[k]) for k in range(10)])):\n",
        "    f = []\n",
        "    num_evals = []\n",
        "    for j in range(10):\n",
        "        f.append(all_results[j][i][1])\n",
        "        num_evals.append(all_results[j][i][2])\n",
        "    f_cem_1024.append(np.mean(f))\n",
        "    std_cem_1024.append(np.std(f))\n",
        "    eval_cem_1024.append(np.mean(num_evals))"
      ],
      "metadata": {
        "id": "-7XRbY3_GYje"
      },
      "execution_count": null,
      "outputs": []
    },
    {
      "cell_type": "code",
      "source": [
        "error_pos_de_128, error_neg_de_128 = [], []\n",
        "for i in range(len(f_de_128)):\n",
        "    error_pos_de_128.append(f_de_128[i] + std_de_128[i])\n",
        "    error_neg_de_128.append(f_de_128[i] - std_de_128[i])\n",
        "\n",
        "error_pos_de_1024, error_neg_de_1024 = [], []\n",
        "for i in range(len(f_de_1024)):\n",
        "    error_pos_de_1024.append(f_de_1024[i] + std_de_1024[i])\n",
        "    error_neg_de_1024.append(f_de_1024[i] - std_de_1024[i])\n",
        "\n",
        "error_pos_cem_128, error_neg_cem_128 = [], []\n",
        "for i in range(len(f_cem_128)):\n",
        "    error_pos_cem_128.append(f_cem_128[i] + std_cem_128[i])\n",
        "    error_neg_cem_128.append(f_cem_128[i] - std_cem_128[i])\n",
        "\n",
        "error_pos_cem_1024, error_neg_cem_1024 = [], []\n",
        "for i in range(len(f_cem_1024)):\n",
        "    error_pos_cem_1024.append(f_cem_1024[i] + std_cem_1024[i])\n",
        "    error_neg_cem_1024.append(f_cem_1024[i] - std_cem_1024[i])\n",
        "\n",
        "plt.figure(figsize=(12, 6))\n",
        "plt.xlim(left=0, right=2500)\n",
        "plt.ylim(-1, 10)\n",
        "\n",
        "# DE_128\n",
        "plt.plot(eval_de_128, f_de_128, label=\"DE-128\")\n",
        "plt.fill_between(eval_de_128, error_pos_de_128, error_neg_de_128, alpha = 0.2)\n",
        "\n",
        "# DE_1024\n",
        "plt.plot(eval_de_1024, f_de_1024, label=\"DE-1024\")\n",
        "plt.fill_between(eval_de_1024, error_pos_de_1024, error_neg_de_1024, alpha = 0.2)\n",
        "\n",
        "# CEM_128\n",
        "plt.plot(eval_cem_128, f_cem_128, label=\"CEM-128\")\n",
        "plt.fill_between(eval_cem_128, error_pos_cem_128, error_neg_cem_128, alpha = 0.2)\n",
        "\n",
        "# CEM_1024\n",
        "plt.plot(eval_cem_1024, f_cem_1024, label=\"CEM-1024\")\n",
        "plt.fill_between(eval_cem_1024, error_pos_cem_1024, error_neg_cem_1024, alpha = 0.2)\n",
        "\n",
        "plt.xlabel('Number of evaluations')\n",
        "plt.ylabel('Best fitness')\n",
        "plt.legend()\n",
        "plt.savefig('zakharov_2.png')\n",
        "plt.show()"
      ],
      "metadata": {
        "colab": {
          "base_uri": "https://localhost:8080/",
          "height": 392
        },
        "id": "XNGiMCIdGdn8",
        "outputId": "e8c3432a-5593-4ab6-f6be-f7a4aa7420dd"
      },
      "execution_count": null,
      "outputs": [
        {
          "output_type": "display_data",
          "data": {
            "text/plain": [
              "<Figure size 864x432 with 1 Axes>"
            ],
            "image/png": "[encoded data removed]"
          },
          "metadata": {
            "needs_background": "light"
          }
        }
      ]
    },
    {
      "cell_type": "markdown",
      "source": [
        "### **d=10**"
      ],
      "metadata": {
        "id": "zZdOy2SYVctL"
      }
    },
    {
      "cell_type": "code",
      "source": [
        "# DE_128\n",
        "fobj = zakharov\n",
        "bounds = [(-5,10)]\n",
        "dimensions = 10\n",
        "F_scale = 0.8\n",
        "cross_prob = 0.7\n",
        "popsize = 128\n",
        "max_evals = 1e6\n",
        "random_seed = 19521432\n",
        "\n",
        "all_results = []\n",
        "for _ in range(10):\n",
        "    results, all_pops = de(fobj, bounds*dimensions, F_scale, cross_prob, popsize, max_evals, random_seed)\n",
        "    all_results.append(results)\n",
        "    random_seed += 1\n",
        "\n",
        "f_de_128 = []\n",
        "std_de_128 = [] \n",
        "eval_de_128 = []\n",
        "\n",
        "for i in range(np.min([len(all_results[k]) for k in range(10)])):\n",
        "    f = []\n",
        "    num_evals = []\n",
        "    for j in range(10):\n",
        "        f.append(all_results[j][i][1])\n",
        "        num_evals.append(all_results[j][i][2])\n",
        "    f_de_128.append(np.mean(f))\n",
        "    std_de_128.append(np.std(f))\n",
        "    eval_de_128.append(np.mean(num_evals))"
      ],
      "metadata": {
        "id": "0yqB4Nf9Veft"
      },
      "execution_count": null,
      "outputs": []
    },
    {
      "cell_type": "code",
      "source": [
        "# DE_1024\n",
        "fobj = zakharov\n",
        "bounds = [(-5,10)]\n",
        "dimensions = 10\n",
        "F_scale = 0.8\n",
        "cross_prob = 0.7\n",
        "popsize = 1024\n",
        "max_evals = 1e6\n",
        "random_seed = 19521432\n",
        "\n",
        "all_results = []\n",
        "for _ in range(10):\n",
        "    results, all_pops = de(fobj, bounds*dimensions, F_scale, cross_prob, popsize, max_evals, random_seed)\n",
        "    all_results.append(results)\n",
        "    random_seed += 1\n",
        "\n",
        "f_de_1024 = []\n",
        "std_de_1024 = [] \n",
        "eval_de_1024 = []\n",
        "\n",
        "for i in range(np.min([len(all_results[k]) for k in range(10)])):\n",
        "    f = []\n",
        "    num_evals = []\n",
        "    for j in range(10):\n",
        "        f.append(all_results[j][i][1])\n",
        "        num_evals.append(all_results[j][i][2])\n",
        "    f_de_1024.append(np.mean(f))\n",
        "    std_de_1024.append(np.std(f))\n",
        "    eval_de_1024.append(np.mean(num_evals))"
      ],
      "metadata": {
        "id": "DTJSTJkrVmOH"
      },
      "execution_count": null,
      "outputs": []
    },
    {
      "cell_type": "code",
      "source": [
        "# CEM_128\n",
        "fobj = zakharov\n",
        "bounds = [(-5,10)]\n",
        "dimensions = 10\n",
        "sigma_init = 1\n",
        "num_elite = 10\n",
        "extra_variance = 0.01\n",
        "popsize = 128\n",
        "max_evals = 1e6\n",
        "random_seed = 19521432\n",
        "\n",
        "all_results = []\n",
        "for _ in range(10):\n",
        "    results = cem(fobj, bounds*dimensions, sigma_init, num_elite, extra_variance, popsize, max_evals, random_seed)\n",
        "    all_results.append(results)\n",
        "    random_seed += 1\n",
        "\n",
        "f_cem_128 = []\n",
        "std_cem_128 = [] \n",
        "eval_cem_128 = []\n",
        "\n",
        "for i in range(np.min([len(all_results[k]) for k in range(10)])):\n",
        "    f = []\n",
        "    num_evals = []\n",
        "    for j in range(10):\n",
        "        f.append(all_results[j][i][1])\n",
        "        num_evals.append(all_results[j][i][2])\n",
        "    f_cem_128.append(np.mean(f))\n",
        "    std_cem_128.append(np.std(f))\n",
        "    eval_cem_128.append(np.mean(num_evals))"
      ],
      "metadata": {
        "id": "xe0h_rIDVt55"
      },
      "execution_count": null,
      "outputs": []
    },
    {
      "cell_type": "code",
      "source": [
        "# CEM_1024\n",
        "fobj = zakharov\n",
        "bounds = [(-5,10)]\n",
        "dimensions = 10\n",
        "sigma_init = 1\n",
        "num_elite = 10\n",
        "extra_variance = 0.01\n",
        "popsize = 1024\n",
        "max_evals = 1e6\n",
        "random_seed = 19521432\n",
        "\n",
        "all_results = []\n",
        "for _ in range(10):\n",
        "    results = cem(fobj, bounds*dimensions, sigma_init, num_elite, extra_variance, popsize, max_evals, random_seed)\n",
        "    all_results.append(results)\n",
        "    random_seed += 1\n",
        "\n",
        "f_cem_1024 = []\n",
        "std_cem_1024 = [] \n",
        "eval_cem_1024 = []\n",
        "\n",
        "for i in range(np.min([len(all_results[k]) for k in range(10)])):\n",
        "    f = []\n",
        "    num_evals = []\n",
        "    for j in range(10):\n",
        "        f.append(all_results[j][i][1])\n",
        "        num_evals.append(all_results[j][i][2])\n",
        "    f_cem_1024.append(np.mean(f))\n",
        "    std_cem_1024.append(np.std(f))\n",
        "    eval_cem_1024.append(np.mean(num_evals))"
      ],
      "metadata": {
        "id": "WQivbXLBV0ql"
      },
      "execution_count": null,
      "outputs": []
    },
    {
      "cell_type": "code",
      "source": [
        "error_pos_de_128, error_neg_de_128 = [], []\n",
        "for i in range(len(f_de_128)):\n",
        "    error_pos_de_128.append(f_de_128[i] + std_de_128[i])\n",
        "    error_neg_de_128.append(f_de_128[i] - std_de_128[i])\n",
        "\n",
        "error_pos_de_1024, error_neg_de_1024 = [], []\n",
        "for i in range(len(f_de_1024)):\n",
        "    error_pos_de_1024.append(f_de_1024[i] + std_de_1024[i])\n",
        "    error_neg_de_1024.append(f_de_1024[i] - std_de_1024[i])\n",
        "\n",
        "error_pos_cem_128, error_neg_cem_128 = [], []\n",
        "for i in range(len(f_cem_128)):\n",
        "    error_pos_cem_128.append(f_cem_128[i] + std_cem_128[i])\n",
        "    error_neg_cem_128.append(f_cem_128[i] - std_cem_128[i])\n",
        "\n",
        "error_pos_cem_1024, error_neg_cem_1024 = [], []\n",
        "for i in range(len(f_cem_1024)):\n",
        "    error_pos_cem_1024.append(f_cem_1024[i] + std_cem_1024[i])\n",
        "    error_neg_cem_1024.append(f_cem_1024[i] - std_cem_1024[i])\n",
        "\n",
        "plt.figure(figsize=(12, 6))\n",
        "plt.xlim(left=0, right=1e6)\n",
        "plt.ylim(-1, 10)\n",
        "\n",
        "# DE_128\n",
        "plt.plot(eval_de_128, f_de_128, label=\"DE-128\")\n",
        "plt.fill_between(eval_de_128, error_pos_de_128, error_neg_de_128, alpha = 0.2)\n",
        "\n",
        "# DE_1024\n",
        "plt.plot(eval_de_1024, f_de_1024, label=\"DE-1024\")\n",
        "plt.fill_between(eval_de_1024, error_pos_de_1024, error_neg_de_1024, alpha = 0.2)\n",
        "\n",
        "# CEM_128\n",
        "plt.plot(eval_cem_128, f_cem_128, label=\"CEM-128\")\n",
        "plt.fill_between(eval_cem_128, error_pos_cem_128, error_neg_cem_128, alpha = 0.2)\n",
        "\n",
        "# CEM_1024\n",
        "plt.plot(eval_cem_1024, f_cem_1024, label=\"CEM-1024\")\n",
        "plt.fill_between(eval_cem_1024, error_pos_cem_1024, error_neg_cem_1024, alpha = 0.2)\n",
        "\n",
        "plt.xlabel('Number of evaluations')\n",
        "plt.ylabel('Best fitness')\n",
        "plt.legend()\n",
        "plt.savefig('zakharov_10.png')\n",
        "plt.show()"
      ],
      "metadata": {
        "colab": {
          "base_uri": "https://localhost:8080/",
          "height": 392
        },
        "id": "3IzBKawHV7z9",
        "outputId": "a07f3591-ef41-4aab-a3ae-c2f01e6384b8"
      },
      "execution_count": null,
      "outputs": [
        {
          "output_type": "display_data",
          "data": {
            "text/plain": [
              "<Figure size 864x432 with 1 Axes>"
            ],
            "image/png": "[encoded data removed]"
          },
          "metadata": {
            "needs_background": "light"
          }
        }
      ]
    },
    {
      "cell_type": "markdown",
      "source": [
        "## **Rosenbrock**"
      ],
      "metadata": {
        "id": "hHrQSVZaij0o"
      }
    },
    {
      "cell_type": "markdown",
      "source": [
        "### **d=2**"
      ],
      "metadata": {
        "id": "yRNl1KaCi4L2"
      }
    },
    {
      "cell_type": "code",
      "source": [
        "# DE_128\n",
        "fobj = rosenbrock\n",
        "bounds = [(-5,10)]\n",
        "dimensions = 2\n",
        "F_scale = 0.8\n",
        "cross_prob = 0.7\n",
        "popsize = 128\n",
        "max_evals = 1e5\n",
        "random_seed = 19521432\n",
        "\n",
        "all_results = []\n",
        "for _ in range(10):\n",
        "    results, all_pops = de(fobj, bounds*dimensions, F_scale, cross_prob, popsize, max_evals, random_seed)\n",
        "    all_results.append(results)\n",
        "    random_seed += 1\n",
        "\n",
        "f_de_128 = []\n",
        "std_de_128 = [] \n",
        "eval_de_128 = []\n",
        "\n",
        "for i in range(np.min([len(all_results[k]) for k in range(10)])):\n",
        "    f = []\n",
        "    num_evals = []\n",
        "    for j in range(10):\n",
        "        f.append(all_results[j][i][1])\n",
        "        num_evals.append(all_results[j][i][2])\n",
        "    f_de_128.append(np.mean(f))\n",
        "    std_de_128.append(np.std(f))\n",
        "    eval_de_128.append(np.mean(num_evals))"
      ],
      "metadata": {
        "id": "8gKrBWgIi2rm"
      },
      "execution_count": null,
      "outputs": []
    },
    {
      "cell_type": "code",
      "source": [
        "# DE_1024\n",
        "fobj = rosenbrock\n",
        "bounds = [(-5,10)]\n",
        "dimensions = 2\n",
        "F_scale = 0.8\n",
        "cross_prob = 0.7\n",
        "popsize = 1024\n",
        "max_evals = 1e5\n",
        "random_seed = 19521432\n",
        "\n",
        "all_results = []\n",
        "for _ in range(10):\n",
        "    results, all_pops = de(fobj, bounds*dimensions, F_scale, cross_prob, popsize, max_evals, random_seed)\n",
        "    all_results.append(results)\n",
        "    random_seed += 1\n",
        "\n",
        "f_de_1024 = []\n",
        "std_de_1024 = [] \n",
        "eval_de_1024 = []\n",
        "\n",
        "for i in range(np.min([len(all_results[k]) for k in range(10)])):\n",
        "    f = []\n",
        "    num_evals = []\n",
        "    for j in range(10):\n",
        "        f.append(all_results[j][i][1])\n",
        "        num_evals.append(all_results[j][i][2])\n",
        "    f_de_1024.append(np.mean(f))\n",
        "    std_de_1024.append(np.std(f))\n",
        "    eval_de_1024.append(np.mean(num_evals))"
      ],
      "metadata": {
        "id": "CiezSePFjHbl"
      },
      "execution_count": null,
      "outputs": []
    },
    {
      "cell_type": "code",
      "source": [
        "# CEM_128\n",
        "fobj = rosenbrock\n",
        "bounds = [(-5,10)]\n",
        "dimensions = 2\n",
        "sigma_init = 1\n",
        "num_elite = 10\n",
        "extra_variance = 0.01\n",
        "popsize = 128\n",
        "max_evals = 1e5\n",
        "random_seed = 19521432\n",
        "\n",
        "all_results = []\n",
        "for _ in range(10):\n",
        "    results = cem(fobj, bounds*dimensions, sigma_init, num_elite, extra_variance, popsize, max_evals, random_seed)\n",
        "    all_results.append(results)\n",
        "    random_seed += 1\n",
        "\n",
        "f_cem_128 = []\n",
        "std_cem_128 = [] \n",
        "eval_cem_128 = []\n",
        "\n",
        "for i in range(np.min([len(all_results[k]) for k in range(10)])):\n",
        "    f = []\n",
        "    num_evals = []\n",
        "    for j in range(10):\n",
        "        f.append(all_results[j][i][1])\n",
        "        num_evals.append(all_results[j][i][2])\n",
        "    f_cem_128.append(np.mean(f))\n",
        "    std_cem_128.append(np.std(f))\n",
        "    eval_cem_128.append(np.mean(num_evals))"
      ],
      "metadata": {
        "id": "fkkdMU1YjNyI"
      },
      "execution_count": null,
      "outputs": []
    },
    {
      "cell_type": "code",
      "source": [
        "# CEM_1024\n",
        "fobj = rosenbrock\n",
        "bounds = [(-5,10)]\n",
        "dimensions = 2\n",
        "sigma_init = 1\n",
        "num_elite = 10\n",
        "extra_variance = 0.01\n",
        "popsize = 1024\n",
        "max_evals = 1e5\n",
        "random_seed = 19521432\n",
        "\n",
        "all_results = []\n",
        "for _ in range(10):\n",
        "    results = cem(fobj, bounds*dimensions, sigma_init, num_elite, extra_variance, popsize, max_evals, random_seed)\n",
        "    all_results.append(results)\n",
        "    random_seed += 1\n",
        "\n",
        "f_cem_1024 = []\n",
        "std_cem_1024 = [] \n",
        "eval_cem_1024 = []\n",
        "\n",
        "for i in range(np.min([len(all_results[k]) for k in range(10)])):\n",
        "    f = []\n",
        "    num_evals = []\n",
        "    for j in range(10):\n",
        "        f.append(all_results[j][i][1])\n",
        "        num_evals.append(all_results[j][i][2])\n",
        "    f_cem_1024.append(np.mean(f))\n",
        "    std_cem_1024.append(np.std(f))\n",
        "    eval_cem_1024.append(np.mean(num_evals))"
      ],
      "metadata": {
        "id": "sn0zFV1yjW48"
      },
      "execution_count": null,
      "outputs": []
    },
    {
      "cell_type": "code",
      "source": [
        "error_pos_de_128, error_neg_de_128 = [], []\n",
        "for i in range(len(f_de_128)):\n",
        "    error_pos_de_128.append(f_de_128[i] + std_de_128[i])\n",
        "    error_neg_de_128.append(f_de_128[i] - std_de_128[i])\n",
        "\n",
        "error_pos_de_1024, error_neg_de_1024 = [], []\n",
        "for i in range(len(f_de_1024)):\n",
        "    error_pos_de_1024.append(f_de_1024[i] + std_de_1024[i])\n",
        "    error_neg_de_1024.append(f_de_1024[i] - std_de_1024[i])\n",
        "\n",
        "error_pos_cem_128, error_neg_cem_128 = [], []\n",
        "for i in range(len(f_cem_128)):\n",
        "    error_pos_cem_128.append(f_cem_128[i] + std_cem_128[i])\n",
        "    error_neg_cem_128.append(f_cem_128[i] - std_cem_128[i])\n",
        "\n",
        "error_pos_cem_1024, error_neg_cem_1024 = [], []\n",
        "for i in range(len(f_cem_1024)):\n",
        "    error_pos_cem_1024.append(f_cem_1024[i] + std_cem_1024[i])\n",
        "    error_neg_cem_1024.append(f_cem_1024[i] - std_cem_1024[i])\n",
        "\n",
        "plt.figure(figsize=(12, 6))\n",
        "plt.xlim(left=0, right=6000)\n",
        "plt.ylim(-1, 10)\n",
        "\n",
        "# DE_128\n",
        "plt.plot(eval_de_128, f_de_128, label=\"DE-128\")\n",
        "plt.fill_between(eval_de_128, error_pos_de_128, error_neg_de_128, alpha = 0.2)\n",
        "\n",
        "# DE_1024\n",
        "plt.plot(eval_de_1024, f_de_1024, label=\"DE-1024\")\n",
        "plt.fill_between(eval_de_1024, error_pos_de_1024, error_neg_de_1024, alpha = 0.2)\n",
        "\n",
        "# CEM_128\n",
        "plt.plot(eval_cem_128, f_cem_128, label=\"CEM-128\")\n",
        "plt.fill_between(eval_cem_128, error_pos_cem_128, error_neg_cem_128, alpha = 0.2)\n",
        "\n",
        "# CEM_1024\n",
        "plt.plot(eval_cem_1024, f_cem_1024, label=\"CEM-1024\")\n",
        "plt.fill_between(eval_cem_1024, error_pos_cem_1024, error_neg_cem_1024, alpha = 0.2)\n",
        "\n",
        "plt.xlabel('Number of evaluations')\n",
        "plt.ylabel('Best fitness')\n",
        "plt.legend()\n",
        "plt.savefig('rosenbrock_2.png')\n",
        "plt.show()"
      ],
      "metadata": {
        "colab": {
          "base_uri": "https://localhost:8080/",
          "height": 392
        },
        "id": "n7bnVtZNjcqu",
        "outputId": "8c9594a4-1bc9-4bf4-efef-5b3afbc7c1a9"
      },
      "execution_count": null,
      "outputs": [
        {
          "output_type": "display_data",
          "data": {
            "text/plain": [
              "<Figure size 864x432 with 1 Axes>"
            ],
            "image/png": "[encoded data removed]"
          },
          "metadata": {
            "needs_background": "light"
          }
        }
      ]
    },
    {
      "cell_type": "markdown",
      "source": [
        "### **d=10**"
      ],
      "metadata": {
        "id": "1UVggNvImGIY"
      }
    },
    {
      "cell_type": "code",
      "source": [
        "# DE_128\n",
        "fobj = rosenbrock\n",
        "bounds = [(-5,10)]\n",
        "dimensions = 10\n",
        "F_scale = 0.8\n",
        "cross_prob = 0.7\n",
        "popsize = 128\n",
        "max_evals = 1e6\n",
        "random_seed = 19521432\n",
        "\n",
        "all_results = []\n",
        "for _ in range(10):\n",
        "    results, all_pops = de(fobj, bounds*dimensions, F_scale, cross_prob, popsize, max_evals, random_seed)\n",
        "    all_results.append(results)\n",
        "    random_seed += 1\n",
        "\n",
        "f_de_128 = []\n",
        "std_de_128 = [] \n",
        "eval_de_128 = []\n",
        "\n",
        "for i in range(np.min([len(all_results[k]) for k in range(10)])):\n",
        "    f = []\n",
        "    num_evals = []\n",
        "    for j in range(10):\n",
        "        f.append(all_results[j][i][1])\n",
        "        num_evals.append(all_results[j][i][2])\n",
        "    f_de_128.append(np.mean(f))\n",
        "    std_de_128.append(np.std(f))\n",
        "    eval_de_128.append(np.mean(num_evals))"
      ],
      "metadata": {
        "id": "ne9UEzPomE97"
      },
      "execution_count": null,
      "outputs": []
    },
    {
      "cell_type": "code",
      "source": [
        "# DE_1024\n",
        "fobj = rosenbrock\n",
        "bounds = [(-5,10)]\n",
        "dimensions = 10\n",
        "F_scale = 0.8\n",
        "cross_prob = 0.7\n",
        "popsize = 1024\n",
        "max_evals = 1e6\n",
        "random_seed = 19521432\n",
        "\n",
        "all_results = []\n",
        "for _ in range(10):\n",
        "    results, all_pops = de(fobj, bounds*dimensions, F_scale, cross_prob, popsize, max_evals, random_seed)\n",
        "    all_results.append(results)\n",
        "    random_seed += 1\n",
        "\n",
        "f_de_1024 = []\n",
        "std_de_1024 = [] \n",
        "eval_de_1024 = []\n",
        "\n",
        "for i in range(np.min([len(all_results[k]) for k in range(10)])):\n",
        "    f = []\n",
        "    num_evals = []\n",
        "    for j in range(10):\n",
        "        f.append(all_results[j][i][1])\n",
        "        num_evals.append(all_results[j][i][2])\n",
        "    f_de_1024.append(np.mean(f))\n",
        "    std_de_1024.append(np.std(f))\n",
        "    eval_de_1024.append(np.mean(num_evals))"
      ],
      "metadata": {
        "id": "_qXlyietmRzY"
      },
      "execution_count": null,
      "outputs": []
    },
    {
      "cell_type": "code",
      "source": [
        "# CEM_128\n",
        "fobj = rosenbrock\n",
        "bounds = [(-5,10)]\n",
        "dimensions = 10\n",
        "sigma_init = 1\n",
        "num_elite = 10\n",
        "extra_variance = 0.01\n",
        "popsize = 128\n",
        "max_evals = 1e6\n",
        "random_seed = 19521432\n",
        "\n",
        "all_results = []\n",
        "for _ in range(10):\n",
        "    results = cem(fobj, bounds*dimensions, sigma_init, num_elite, extra_variance, popsize, max_evals, random_seed)\n",
        "    all_results.append(results)\n",
        "    random_seed += 1\n",
        "\n",
        "f_cem_128 = []\n",
        "std_cem_128 = [] \n",
        "eval_cem_128 = []\n",
        "\n",
        "for i in range(np.min([len(all_results[k]) for k in range(10)])):\n",
        "    f = []\n",
        "    num_evals = []\n",
        "    for j in range(10):\n",
        "        f.append(all_results[j][i][1])\n",
        "        num_evals.append(all_results[j][i][2])\n",
        "    f_cem_128.append(np.mean(f))\n",
        "    std_cem_128.append(np.std(f))\n",
        "    eval_cem_128.append(np.mean(num_evals))"
      ],
      "metadata": {
        "id": "1yulW43EmWZL"
      },
      "execution_count": null,
      "outputs": []
    },
    {
      "cell_type": "code",
      "source": [
        "# CEM_1024\n",
        "fobj = rosenbrock\n",
        "bounds = [(-5,10)]\n",
        "dimensions = 10\n",
        "sigma_init = 1\n",
        "num_elite = 10\n",
        "extra_variance = 0.01\n",
        "popsize = 1024\n",
        "max_evals = 1e6\n",
        "random_seed = 19521432\n",
        "\n",
        "all_results = []\n",
        "for _ in range(10):\n",
        "    results = cem(fobj, bounds*dimensions, sigma_init, num_elite, extra_variance, popsize, max_evals, random_seed)\n",
        "    all_results.append(results)\n",
        "    random_seed += 1\n",
        "\n",
        "f_cem_1024 = []\n",
        "std_cem_1024 = [] \n",
        "eval_cem_1024 = []\n",
        "\n",
        "for i in range(np.min([len(all_results[k]) for k in range(10)])):\n",
        "    f = []\n",
        "    num_evals = []\n",
        "    for j in range(10):\n",
        "        f.append(all_results[j][i][1])\n",
        "        num_evals.append(all_results[j][i][2])\n",
        "    f_cem_1024.append(np.mean(f))\n",
        "    std_cem_1024.append(np.std(f))\n",
        "    eval_cem_1024.append(np.mean(num_evals))"
      ],
      "metadata": {
        "id": "kHRSV9-Lma7P"
      },
      "execution_count": null,
      "outputs": []
    },
    {
      "cell_type": "code",
      "source": [
        "error_pos_de_128, error_neg_de_128 = [], []\n",
        "for i in range(len(f_de_128)):\n",
        "    error_pos_de_128.append(f_de_128[i] + std_de_128[i])\n",
        "    error_neg_de_128.append(f_de_128[i] - std_de_128[i])\n",
        "\n",
        "error_pos_de_1024, error_neg_de_1024 = [], []\n",
        "for i in range(len(f_de_1024)):\n",
        "    error_pos_de_1024.append(f_de_1024[i] + std_de_1024[i])\n",
        "    error_neg_de_1024.append(f_de_1024[i] - std_de_1024[i])\n",
        "\n",
        "error_pos_cem_128, error_neg_cem_128 = [], []\n",
        "for i in range(len(f_cem_128)):\n",
        "    error_pos_cem_128.append(f_cem_128[i] + std_cem_128[i])\n",
        "    error_neg_cem_128.append(f_cem_128[i] - std_cem_128[i])\n",
        "\n",
        "error_pos_cem_1024, error_neg_cem_1024 = [], []\n",
        "for i in range(len(f_cem_1024)):\n",
        "    error_pos_cem_1024.append(f_cem_1024[i] + std_cem_1024[i])\n",
        "    error_neg_cem_1024.append(f_cem_1024[i] - std_cem_1024[i])\n",
        "\n",
        "plt.figure(figsize=(12, 6))\n",
        "plt.xlim(left=0, right=1e6)\n",
        "plt.ylim(-1, 10)\n",
        "\n",
        "# DE_128\n",
        "plt.plot(eval_de_128, f_de_128, label=\"DE-128\")\n",
        "plt.fill_between(eval_de_128, error_pos_de_128, error_neg_de_128, alpha = 0.2)\n",
        "\n",
        "# DE_1024\n",
        "plt.plot(eval_de_1024, f_de_1024, label=\"DE-1024\")\n",
        "plt.fill_between(eval_de_1024, error_pos_de_1024, error_neg_de_1024, alpha = 0.2)\n",
        "\n",
        "# CEM_128\n",
        "plt.plot(eval_cem_128, f_cem_128, label=\"CEM-128\")\n",
        "plt.fill_between(eval_cem_128, error_pos_cem_128, error_neg_cem_128, alpha = 0.2)\n",
        "\n",
        "# CEM_1024\n",
        "plt.plot(eval_cem_1024, f_cem_1024, label=\"CEM-1024\")\n",
        "plt.fill_between(eval_cem_1024, error_pos_cem_1024, error_neg_cem_1024, alpha = 0.2)\n",
        "\n",
        "plt.xlabel('Number of evaluations')\n",
        "plt.ylabel('Best fitness')\n",
        "plt.legend()\n",
        "plt.savefig('rosenbrock_10.png')\n",
        "plt.show()"
      ],
      "metadata": {
        "colab": {
          "base_uri": "https://localhost:8080/",
          "height": 392
        },
        "id": "3eNQJqL4mgnT",
        "outputId": "73d44b30-a238-4f8d-e894-fd9d1b044b71"
      },
      "execution_count": null,
      "outputs": [
        {
          "output_type": "display_data",
          "data": {
            "text/plain": [
              "<Figure size 864x432 with 1 Axes>"
            ],
            "image/png": "[encoded data removed]"
          },
          "metadata": {
            "needs_background": "light"
          }
        }
      ]
    },
    {
      "cell_type": "markdown",
      "source": [
        "## **Michalewicz**"
      ],
      "metadata": {
        "id": "l7I9gsG-Td7_"
      }
    },
    {
      "cell_type": "markdown",
      "source": [
        "### **d=2**"
      ],
      "metadata": {
        "id": "8Q4dZxwGTkTP"
      }
    },
    {
      "cell_type": "code",
      "source": [
        "# DE_128\n",
        "fobj = michalewicz\n",
        "bounds = [(0,np.pi)]\n",
        "dimensions = 2\n",
        "F_scale = 0.8\n",
        "cross_prob = 0.7\n",
        "popsize = 128\n",
        "max_evals = 1e5\n",
        "random_seed = 19521432\n",
        "\n",
        "all_results = []\n",
        "for _ in range(10):\n",
        "    results, all_pops = de(fobj, bounds*dimensions, F_scale, cross_prob, popsize, max_evals, random_seed)\n",
        "    all_results.append(results)\n",
        "    random_seed += 1\n",
        "\n",
        "f_de_128 = []\n",
        "std_de_128 = [] \n",
        "eval_de_128 = []\n",
        "\n",
        "for i in range(np.min([len(all_results[k]) for k in range(10)])):\n",
        "    f = []\n",
        "    num_evals = []\n",
        "    for j in range(10):\n",
        "        f.append(all_results[j][i][1])\n",
        "        num_evals.append(all_results[j][i][2])\n",
        "    f_de_128.append(np.mean(f))\n",
        "    std_de_128.append(np.std(f))\n",
        "    eval_de_128.append(np.mean(num_evals))"
      ],
      "metadata": {
        "id": "vEzEANFUThOV"
      },
      "execution_count": null,
      "outputs": []
    },
    {
      "cell_type": "code",
      "source": [
        "# DE_1024\n",
        "fobj = michalewicz\n",
        "bounds = [(0,np.pi)]\n",
        "dimensions = 2\n",
        "F_scale = 0.8\n",
        "cross_prob = 0.7\n",
        "popsize = 1024\n",
        "max_evals = 1e5\n",
        "random_seed = 19521432\n",
        "\n",
        "all_results = []\n",
        "for _ in range(10):\n",
        "    results, all_pops = de(fobj, bounds*dimensions, F_scale, cross_prob, popsize, max_evals, random_seed)\n",
        "    all_results.append(results)\n",
        "    random_seed += 1\n",
        "\n",
        "f_de_1024 = []\n",
        "std_de_1024 = [] \n",
        "eval_de_1024 = []\n",
        "\n",
        "for i in range(np.min([len(all_results[k]) for k in range(10)])):\n",
        "    f = []\n",
        "    num_evals = []\n",
        "    for j in range(10):\n",
        "        f.append(all_results[j][i][1])\n",
        "        num_evals.append(all_results[j][i][2])\n",
        "    f_de_1024.append(np.mean(f))\n",
        "    std_de_1024.append(np.std(f))\n",
        "    eval_de_1024.append(np.mean(num_evals))"
      ],
      "metadata": {
        "id": "L00hEasQT00K"
      },
      "execution_count": null,
      "outputs": []
    },
    {
      "cell_type": "code",
      "source": [
        "# CEM_128\n",
        "fobj = michalewicz\n",
        "bounds = [(0,np.pi)]\n",
        "dimensions = 2\n",
        "sigma_init = 1\n",
        "num_elite = 10\n",
        "extra_variance = 0.01\n",
        "popsize = 128\n",
        "max_evals = 1e5\n",
        "random_seed = 19521432\n",
        "\n",
        "all_results = []\n",
        "for _ in range(10):\n",
        "    results = cem(fobj, bounds*dimensions, sigma_init, num_elite, extra_variance, popsize, max_evals, random_seed)\n",
        "    all_results.append(results)\n",
        "    random_seed += 1\n",
        "\n",
        "f_cem_128 = []\n",
        "std_cem_128 = [] \n",
        "eval_cem_128 = []\n",
        "\n",
        "for i in range(np.min([len(all_results[k]) for k in range(10)])):\n",
        "    f = []\n",
        "    num_evals = []\n",
        "    for j in range(10):\n",
        "        f.append(all_results[j][i][1])\n",
        "        num_evals.append(all_results[j][i][2])\n",
        "    f_cem_128.append(np.mean(f))\n",
        "    std_cem_128.append(np.std(f))\n",
        "    eval_cem_128.append(np.mean(num_evals))"
      ],
      "metadata": {
        "id": "xrn9YNXxUAV8"
      },
      "execution_count": null,
      "outputs": []
    },
    {
      "cell_type": "code",
      "source": [
        "# CEM_1024\n",
        "fobj = michalewicz\n",
        "bounds = [(0,np.pi)]\n",
        "dimensions = 2\n",
        "sigma_init = 1\n",
        "num_elite = 10\n",
        "extra_variance = 0.01\n",
        "popsize = 1024\n",
        "max_evals = 1e5\n",
        "random_seed = 19521432\n",
        "\n",
        "all_results = []\n",
        "for _ in range(10):\n",
        "    results = cem(fobj, bounds*dimensions, sigma_init, num_elite, extra_variance, popsize, max_evals, random_seed)\n",
        "    all_results.append(results)\n",
        "    random_seed += 1\n",
        "\n",
        "f_cem_1024 = []\n",
        "std_cem_1024 = [] \n",
        "eval_cem_1024 = []\n",
        "\n",
        "for i in range(np.min([len(all_results[k]) for k in range(10)])):\n",
        "    f = []\n",
        "    num_evals = []\n",
        "    for j in range(10):\n",
        "        f.append(all_results[j][i][1])\n",
        "        num_evals.append(all_results[j][i][2])\n",
        "    f_cem_1024.append(np.mean(f))\n",
        "    std_cem_1024.append(np.std(f))\n",
        "    eval_cem_1024.append(np.mean(num_evals))"
      ],
      "metadata": {
        "id": "tXprIRTBURT0"
      },
      "execution_count": null,
      "outputs": []
    },
    {
      "cell_type": "code",
      "source": [
        "error_pos_de_128, error_neg_de_128 = [], []\n",
        "for i in range(len(f_de_128)):\n",
        "    error_pos_de_128.append(f_de_128[i] + std_de_128[i])\n",
        "    error_neg_de_128.append(f_de_128[i] - std_de_128[i])\n",
        "\n",
        "error_pos_de_1024, error_neg_de_1024 = [], []\n",
        "for i in range(len(f_de_1024)):\n",
        "    error_pos_de_1024.append(f_de_1024[i] + std_de_1024[i])\n",
        "    error_neg_de_1024.append(f_de_1024[i] - std_de_1024[i])\n",
        "\n",
        "error_pos_cem_128, error_neg_cem_128 = [], []\n",
        "for i in range(len(f_cem_128)):\n",
        "    error_pos_cem_128.append(f_cem_128[i] + std_cem_128[i])\n",
        "    error_neg_cem_128.append(f_cem_128[i] - std_cem_128[i])\n",
        "\n",
        "error_pos_cem_1024, error_neg_cem_1024 = [], []\n",
        "for i in range(len(f_cem_1024)):\n",
        "    error_pos_cem_1024.append(f_cem_1024[i] + std_cem_1024[i])\n",
        "    error_neg_cem_1024.append(f_cem_1024[i] - std_cem_1024[i])\n",
        "\n",
        "plt.figure(figsize=(12, 6))\n",
        "plt.xlim(left=0, right=2500)\n",
        "plt.ylim(-2, 0)\n",
        "\n",
        "# DE_128\n",
        "plt.plot(eval_de_128, f_de_128, label=\"DE-128\")\n",
        "plt.fill_between(eval_de_128, error_pos_de_128, error_neg_de_128, alpha = 0.2)\n",
        "\n",
        "# DE_1024\n",
        "plt.plot(eval_de_1024, f_de_1024, label=\"DE-1024\")\n",
        "plt.fill_between(eval_de_1024, error_pos_de_1024, error_neg_de_1024, alpha = 0.2)\n",
        "\n",
        "# CEM_128\n",
        "plt.plot(eval_cem_128, f_cem_128, label=\"CEM-128\")\n",
        "plt.fill_between(eval_cem_128, error_pos_cem_128, error_neg_cem_128, alpha = 0.2)\n",
        "\n",
        "# CEM_1024\n",
        "plt.plot(eval_cem_1024, f_cem_1024, label=\"CEM-1024\")\n",
        "plt.fill_between(eval_cem_1024, error_pos_cem_1024, error_neg_cem_1024, alpha = 0.2)\n",
        "\n",
        "plt.xlabel('Number of evaluations')\n",
        "plt.ylabel('Best fitness')\n",
        "plt.legend()\n",
        "plt.savefig('michalewicz_2.png')\n",
        "plt.show()"
      ],
      "metadata": {
        "colab": {
          "base_uri": "https://localhost:8080/",
          "height": 392
        },
        "id": "THBUiWfXUZCv",
        "outputId": "8a24c64e-643d-4870-a632-0cd52c13c1c1"
      },
      "execution_count": null,
      "outputs": [
        {
          "output_type": "display_data",
          "data": {
            "text/plain": [
              "<Figure size 864x432 with 1 Axes>"
            ],
            "image/png": "[encoded data removed]"
          },
          "metadata": {
            "needs_background": "light"
          }
        }
      ]
    },
    {
      "cell_type": "markdown",
      "source": [
        "### **d=10**"
      ],
      "metadata": {
        "id": "ulNQPv09WYUN"
      }
    },
    {
      "cell_type": "code",
      "source": [
        "# DE_128\n",
        "fobj = michalewicz\n",
        "bounds = [(0,np.pi)]\n",
        "dimensions = 10\n",
        "F_scale = 0.8\n",
        "cross_prob = 0.7\n",
        "popsize = 128\n",
        "max_evals = 1e6\n",
        "random_seed = 19521432\n",
        "\n",
        "all_results = []\n",
        "for _ in range(10):\n",
        "    results, all_pops = de(fobj, bounds*dimensions, F_scale, cross_prob, popsize, max_evals, random_seed)\n",
        "    all_results.append(results)\n",
        "    random_seed += 1\n",
        "\n",
        "f_de_128 = []\n",
        "std_de_128 = [] \n",
        "eval_de_128 = []\n",
        "\n",
        "for i in range(np.min([len(all_results[k]) for k in range(10)])):\n",
        "    f = []\n",
        "    num_evals = []\n",
        "    for j in range(10):\n",
        "        f.append(all_results[j][i][1])\n",
        "        num_evals.append(all_results[j][i][2])\n",
        "    f_de_128.append(np.mean(f))\n",
        "    std_de_128.append(np.std(f))\n",
        "    eval_de_128.append(np.mean(num_evals))"
      ],
      "metadata": {
        "id": "nPhLMYScWZsG"
      },
      "execution_count": null,
      "outputs": []
    },
    {
      "cell_type": "code",
      "source": [
        "# DE_1024\n",
        "fobj = michalewicz\n",
        "bounds = [(0,np.pi)]\n",
        "dimensions = 10\n",
        "F_scale = 0.8\n",
        "cross_prob = 0.7\n",
        "popsize = 1024\n",
        "max_evals = 1e6\n",
        "random_seed = 19521432\n",
        "\n",
        "all_results = []\n",
        "for _ in range(10):\n",
        "    results, all_pops = de(fobj, bounds*dimensions, F_scale, cross_prob, popsize, max_evals, random_seed)\n",
        "    all_results.append(results)\n",
        "    random_seed += 1\n",
        "\n",
        "f_de_1024 = []\n",
        "std_de_1024 = [] \n",
        "eval_de_1024 = []\n",
        "\n",
        "for i in range(np.min([len(all_results[k]) for k in range(10)])):\n",
        "    f = []\n",
        "    num_evals = []\n",
        "    for j in range(10):\n",
        "        f.append(all_results[j][i][1])\n",
        "        num_evals.append(all_results[j][i][2])\n",
        "    f_de_1024.append(np.mean(f))\n",
        "    std_de_1024.append(np.std(f))\n",
        "    eval_de_1024.append(np.mean(num_evals))"
      ],
      "metadata": {
        "id": "34n1Tsc1Wfvx"
      },
      "execution_count": null,
      "outputs": []
    },
    {
      "cell_type": "code",
      "source": [
        "# CEM_128\n",
        "fobj = michalewicz\n",
        "bounds = [(0,np.pi)]\n",
        "dimensions = 10\n",
        "sigma_init = 1\n",
        "num_elite = 10\n",
        "extra_variance = 0.01\n",
        "popsize = 128\n",
        "max_evals = 1e6\n",
        "random_seed = 19521432\n",
        "\n",
        "all_results = []\n",
        "for _ in range(10):\n",
        "    results = cem(fobj, bounds*dimensions, sigma_init, num_elite, extra_variance, popsize, max_evals, random_seed)\n",
        "    all_results.append(results)\n",
        "    random_seed += 1\n",
        "\n",
        "f_cem_128 = []\n",
        "std_cem_128 = [] \n",
        "eval_cem_128 = []\n",
        "\n",
        "for i in range(np.min([len(all_results[k]) for k in range(10)])):\n",
        "    f = []\n",
        "    num_evals = []\n",
        "    for j in range(10):\n",
        "        f.append(all_results[j][i][1])\n",
        "        num_evals.append(all_results[j][i][2])\n",
        "    f_cem_128.append(np.mean(f))\n",
        "    std_cem_128.append(np.std(f))\n",
        "    eval_cem_128.append(np.mean(num_evals))"
      ],
      "metadata": {
        "id": "XNrILedtWj7U"
      },
      "execution_count": null,
      "outputs": []
    },
    {
      "cell_type": "code",
      "source": [
        "# CEM_1024\n",
        "fobj = michalewicz\n",
        "bounds = [(0,np.pi)]\n",
        "dimensions = 10\n",
        "sigma_init = 1\n",
        "num_elite = 10\n",
        "extra_variance = 0.01\n",
        "popsize = 1024\n",
        "max_evals = 1e6\n",
        "random_seed = 19521432\n",
        "\n",
        "all_results = []\n",
        "for _ in range(10):\n",
        "    results = cem(fobj, bounds*dimensions, sigma_init, num_elite, extra_variance, popsize, max_evals, random_seed)\n",
        "    all_results.append(results)\n",
        "    random_seed += 1\n",
        "\n",
        "f_cem_1024 = []\n",
        "std_cem_1024 = [] \n",
        "eval_cem_1024 = []\n",
        "\n",
        "for i in range(np.min([len(all_results[k]) for k in range(10)])):\n",
        "    f = []\n",
        "    num_evals = []\n",
        "    for j in range(10):\n",
        "        f.append(all_results[j][i][1])\n",
        "        num_evals.append(all_results[j][i][2])\n",
        "    f_cem_1024.append(np.mean(f))\n",
        "    std_cem_1024.append(np.std(f))\n",
        "    eval_cem_1024.append(np.mean(num_evals))"
      ],
      "metadata": {
        "id": "UPUyVSK_Wqek"
      },
      "execution_count": null,
      "outputs": []
    },
    {
      "cell_type": "code",
      "source": [
        "error_pos_de_128, error_neg_de_128 = [], []\n",
        "for i in range(len(f_de_128)):\n",
        "    error_pos_de_128.append(f_de_128[i] + std_de_128[i])\n",
        "    error_neg_de_128.append(f_de_128[i] - std_de_128[i])\n",
        "\n",
        "error_pos_de_1024, error_neg_de_1024 = [], []\n",
        "for i in range(len(f_de_1024)):\n",
        "    error_pos_de_1024.append(f_de_1024[i] + std_de_1024[i])\n",
        "    error_neg_de_1024.append(f_de_1024[i] - std_de_1024[i])\n",
        "\n",
        "error_pos_cem_128, error_neg_cem_128 = [], []\n",
        "for i in range(len(f_cem_128)):\n",
        "    error_pos_cem_128.append(f_cem_128[i] + std_cem_128[i])\n",
        "    error_neg_cem_128.append(f_cem_128[i] - std_cem_128[i])\n",
        "\n",
        "error_pos_cem_1024, error_neg_cem_1024 = [], []\n",
        "for i in range(len(f_cem_1024)):\n",
        "    error_pos_cem_1024.append(f_cem_1024[i] + std_cem_1024[i])\n",
        "    error_neg_cem_1024.append(f_cem_1024[i] - std_cem_1024[i])\n",
        "\n",
        "plt.figure(figsize=(12, 6))\n",
        "plt.xlim(left=0, right=1e6)\n",
        "plt.ylim(-10, 0)\n",
        "\n",
        "# DE_128\n",
        "plt.plot(eval_de_128, f_de_128, label=\"DE-128\")\n",
        "plt.fill_between(eval_de_128, error_pos_de_128, error_neg_de_128, alpha = 0.2)\n",
        "\n",
        "# DE_1024\n",
        "plt.plot(eval_de_1024, f_de_1024, label=\"DE-1024\")\n",
        "plt.fill_between(eval_de_1024, error_pos_de_1024, error_neg_de_1024, alpha = 0.2)\n",
        "\n",
        "# CEM_128\n",
        "plt.plot(eval_cem_128, f_cem_128, label=\"CEM-128\")\n",
        "plt.fill_between(eval_cem_128, error_pos_cem_128, error_neg_cem_128, alpha = 0.2)\n",
        "\n",
        "# CEM_1024\n",
        "plt.plot(eval_cem_1024, f_cem_1024, label=\"CEM-1024\")\n",
        "plt.fill_between(eval_cem_1024, error_pos_cem_1024, error_neg_cem_1024, alpha = 0.2)\n",
        "\n",
        "plt.xlabel('Number of evaluations')\n",
        "plt.ylabel('Best fitness')\n",
        "plt.legend()\n",
        "plt.savefig('michalewicz_10.png')\n",
        "plt.show()"
      ],
      "metadata": {
        "colab": {
          "base_uri": "https://localhost:8080/",
          "height": 392
        },
        "id": "rZnvRajSWwQZ",
        "outputId": "d858800f-4dfa-4cb7-f64b-f42f1f3ff667"
      },
      "execution_count": null,
      "outputs": [
        {
          "output_type": "display_data",
          "data": {
            "text/plain": [
              "<Figure size 864x432 with 1 Axes>"
            ],
            "image/png": "[encoded data removed]"
          },
          "metadata": {
            "needs_background": "light"
          }
        }
      ]
    },
    {
      "cell_type": "markdown",
      "source": [
        "## **Ackley**"
      ],
      "metadata": {
        "id": "IVhA2qGtk0Am"
      }
    },
    {
      "cell_type": "markdown",
      "source": [
        "### **d=2**"
      ],
      "metadata": {
        "id": "S6QnDbTqk2cj"
      }
    },
    {
      "cell_type": "code",
      "source": [
        "# DE_128\n",
        "fobj = ackley\n",
        "bounds = [(-33,33)]\n",
        "dimensions = 2\n",
        "F_scale = 0.8\n",
        "cross_prob = 0.7\n",
        "popsize = 128\n",
        "max_evals = 1e5\n",
        "random_seed = 19521432\n",
        "\n",
        "all_results = []\n",
        "for _ in range(10):\n",
        "    results, all_pops = de(fobj, bounds*dimensions, F_scale, cross_prob, popsize, max_evals, random_seed)\n",
        "    all_results.append(results)\n",
        "    random_seed += 1\n",
        "\n",
        "f_de_128 = []\n",
        "std_de_128 = [] \n",
        "eval_de_128 = []\n",
        "\n",
        "for i in range(np.min([len(all_results[k]) for k in range(10)])):\n",
        "    f = []\n",
        "    num_evals = []\n",
        "    for j in range(10):\n",
        "        f.append(all_results[j][i][1])\n",
        "        num_evals.append(all_results[j][i][2])\n",
        "    f_de_128.append(np.mean(f))\n",
        "    std_de_128.append(np.std(f))\n",
        "    eval_de_128.append(np.mean(num_evals))"
      ],
      "metadata": {
        "id": "7W1eLCZuk12E"
      },
      "execution_count": null,
      "outputs": []
    },
    {
      "cell_type": "code",
      "source": [
        "# DE_1024\n",
        "fobj = ackley\n",
        "bounds = [(-33,33)]\n",
        "dimensions = 2\n",
        "F_scale = 0.8\n",
        "cross_prob = 0.7\n",
        "popsize = 1024\n",
        "max_evals = 1e5\n",
        "random_seed = 19521432\n",
        "\n",
        "all_results = []\n",
        "for _ in range(10):\n",
        "    results, all_pops = de(fobj, bounds*dimensions, F_scale, cross_prob, popsize, max_evals, random_seed)\n",
        "    all_results.append(results)\n",
        "    random_seed += 1\n",
        "\n",
        "f_de_1024 = []\n",
        "std_de_1024 = [] \n",
        "eval_de_1024 = []\n",
        "\n",
        "for i in range(np.min([len(all_results[k]) for k in range(10)])):\n",
        "    f = []\n",
        "    num_evals = []\n",
        "    for j in range(10):\n",
        "        f.append(all_results[j][i][1])\n",
        "        num_evals.append(all_results[j][i][2])\n",
        "    f_de_1024.append(np.mean(f))\n",
        "    std_de_1024.append(np.std(f))\n",
        "    eval_de_1024.append(np.mean(num_evals))"
      ],
      "metadata": {
        "id": "UnD54zshlJwV"
      },
      "execution_count": null,
      "outputs": []
    },
    {
      "cell_type": "code",
      "source": [
        "# CEM_128\n",
        "fobj = ackley\n",
        "bounds = [(-33,33)]\n",
        "dimensions = 2\n",
        "sigma_init = 1\n",
        "num_elite = 10\n",
        "extra_variance = 0.01\n",
        "popsize = 128\n",
        "max_evals = 1e5\n",
        "random_seed = 19521432\n",
        "\n",
        "all_results = []\n",
        "for _ in range(10):\n",
        "    results = cem(fobj, bounds*dimensions, sigma_init, num_elite, extra_variance, popsize, max_evals, random_seed)\n",
        "    all_results.append(results)\n",
        "    random_seed += 1\n",
        "\n",
        "f_cem_128 = []\n",
        "std_cem_128 = [] \n",
        "eval_cem_128 = []\n",
        "\n",
        "for i in range(np.min([len(all_results[k]) for k in range(10)])):\n",
        "    f = []\n",
        "    num_evals = []\n",
        "    for j in range(10):\n",
        "        f.append(all_results[j][i][1])\n",
        "        num_evals.append(all_results[j][i][2])\n",
        "    f_cem_128.append(np.mean(f))\n",
        "    std_cem_128.append(np.std(f))\n",
        "    eval_cem_128.append(np.mean(num_evals))"
      ],
      "metadata": {
        "id": "FqVAPl4blQPq"
      },
      "execution_count": null,
      "outputs": []
    },
    {
      "cell_type": "code",
      "source": [
        "# CEM_1024\n",
        "fobj = ackley\n",
        "bounds = [(-33,33)]\n",
        "dimensions = 2\n",
        "sigma_init = 1\n",
        "num_elite = 10\n",
        "extra_variance = 0.01\n",
        "popsize = 1024\n",
        "max_evals = 1e5\n",
        "random_seed = 19521432\n",
        "\n",
        "all_results = []\n",
        "for _ in range(10):\n",
        "    results = cem(fobj, bounds*dimensions, sigma_init, num_elite, extra_variance, popsize, max_evals, random_seed)\n",
        "    all_results.append(results)\n",
        "    random_seed += 1\n",
        "\n",
        "f_cem_1024 = []\n",
        "std_cem_1024 = [] \n",
        "eval_cem_1024 = []\n",
        "\n",
        "for i in range(np.min([len(all_results[k]) for k in range(10)])):\n",
        "    f = []\n",
        "    num_evals = []\n",
        "    for j in range(10):\n",
        "        f.append(all_results[j][i][1])\n",
        "        num_evals.append(all_results[j][i][2])\n",
        "    f_cem_1024.append(np.mean(f))\n",
        "    std_cem_1024.append(np.std(f))\n",
        "    eval_cem_1024.append(np.mean(num_evals))"
      ],
      "metadata": {
        "id": "TMPelW8xlZ1M"
      },
      "execution_count": null,
      "outputs": []
    },
    {
      "cell_type": "code",
      "source": [
        "error_pos_de_128, error_neg_de_128 = [], []\n",
        "for i in range(len(f_de_128)):\n",
        "    error_pos_de_128.append(f_de_128[i] + std_de_128[i])\n",
        "    error_neg_de_128.append(f_de_128[i] - std_de_128[i])\n",
        "\n",
        "error_pos_de_1024, error_neg_de_1024 = [], []\n",
        "for i in range(len(f_de_1024)):\n",
        "    error_pos_de_1024.append(f_de_1024[i] + std_de_1024[i])\n",
        "    error_neg_de_1024.append(f_de_1024[i] - std_de_1024[i])\n",
        "\n",
        "error_pos_cem_128, error_neg_cem_128 = [], []\n",
        "for i in range(len(f_cem_128)):\n",
        "    error_pos_cem_128.append(f_cem_128[i] + std_cem_128[i])\n",
        "    error_neg_cem_128.append(f_cem_128[i] - std_cem_128[i])\n",
        "\n",
        "error_pos_cem_1024, error_neg_cem_1024 = [], []\n",
        "for i in range(len(f_cem_1024)):\n",
        "    error_pos_cem_1024.append(f_cem_1024[i] + std_cem_1024[i])\n",
        "    error_neg_cem_1024.append(f_cem_1024[i] - std_cem_1024[i])\n",
        "\n",
        "plt.figure(figsize=(12, 6))\n",
        "plt.xlim(left=0, right=1e5)\n",
        "plt.ylim(-1, 10)\n",
        "\n",
        "# DE_128\n",
        "plt.plot(eval_de_128, f_de_128, label=\"DE-128\")\n",
        "plt.fill_between(eval_de_128, error_pos_de_128, error_neg_de_128, alpha = 0.2)\n",
        "\n",
        "# DE_1024\n",
        "plt.plot(eval_de_1024, f_de_1024, label=\"DE-1024\")\n",
        "plt.fill_between(eval_de_1024, error_pos_de_1024, error_neg_de_1024, alpha = 0.2)\n",
        "\n",
        "# CEM_128\n",
        "plt.plot(eval_cem_128, f_cem_128, label=\"CEM-128\")\n",
        "plt.fill_between(eval_cem_128, error_pos_cem_128, error_neg_cem_128, alpha = 0.2)\n",
        "\n",
        "# CEM_1024\n",
        "plt.plot(eval_cem_1024, f_cem_1024, label=\"CEM-1024\")\n",
        "plt.fill_between(eval_cem_1024, error_pos_cem_1024, error_neg_cem_1024, alpha = 0.2)\n",
        "\n",
        "plt.xlabel('Number of evaluations')\n",
        "plt.ylabel('Best fitness')\n",
        "plt.legend()\n",
        "plt.savefig('ackley_2.png')\n",
        "plt.show()"
      ],
      "metadata": {
        "colab": {
          "base_uri": "https://localhost:8080/",
          "height": 392
        },
        "id": "-sH0Jqo3lgfo",
        "outputId": "d0c9463f-bb7a-4266-d17a-240aebd84bc3"
      },
      "execution_count": null,
      "outputs": [
        {
          "output_type": "display_data",
          "data": {
            "text/plain": [
              "<Figure size 864x432 with 1 Axes>"
            ],
            "image/png": "[encoded data removed]"
          },
          "metadata": {
            "needs_background": "light"
          }
        }
      ]
    },
    {
      "cell_type": "markdown",
      "source": [
        "### **d=10**"
      ],
      "metadata": {
        "id": "vJIOvj0gnsYn"
      }
    },
    {
      "cell_type": "code",
      "source": [
        "# DE_128\n",
        "fobj = ackley\n",
        "bounds = [(-33,33)]\n",
        "dimensions = 10\n",
        "F_scale = 0.8\n",
        "cross_prob = 0.7\n",
        "popsize = 128\n",
        "max_evals = 1e6\n",
        "random_seed = 19521432\n",
        "\n",
        "all_results = []\n",
        "for _ in range(10):\n",
        "    results, all_pops = de(fobj, bounds*dimensions, F_scale, cross_prob, popsize, max_evals, random_seed)\n",
        "    all_results.append(results)\n",
        "    random_seed += 1\n",
        "\n",
        "f_de_128 = []\n",
        "std_de_128 = [] \n",
        "eval_de_128 = []\n",
        "\n",
        "for i in range(np.min([len(all_results[k]) for k in range(10)])):\n",
        "    f = []\n",
        "    num_evals = []\n",
        "    for j in range(10):\n",
        "        f.append(all_results[j][i][1])\n",
        "        num_evals.append(all_results[j][i][2])\n",
        "    f_de_128.append(np.mean(f))\n",
        "    std_de_128.append(np.std(f))\n",
        "    eval_de_128.append(np.mean(num_evals))"
      ],
      "metadata": {
        "id": "8iijCxyInt6L"
      },
      "execution_count": null,
      "outputs": []
    },
    {
      "cell_type": "code",
      "source": [
        "# DE_1024\n",
        "fobj = ackley\n",
        "bounds = [(-33,33)]\n",
        "dimensions = 10\n",
        "F_scale = 0.8\n",
        "cross_prob = 0.7\n",
        "popsize = 1024\n",
        "max_evals = 1e6\n",
        "random_seed = 19521432\n",
        "\n",
        "all_results = []\n",
        "for _ in range(10):\n",
        "    results, all_pops = de(fobj, bounds*dimensions, F_scale, cross_prob, popsize, max_evals, random_seed)\n",
        "    all_results.append(results)\n",
        "    random_seed += 1\n",
        "\n",
        "f_de_1024 = []\n",
        "std_de_1024 = [] \n",
        "eval_de_1024 = []\n",
        "\n",
        "for i in range(np.min([len(all_results[k]) for k in range(10)])):\n",
        "    f = []\n",
        "    num_evals = []\n",
        "    for j in range(10):\n",
        "        f.append(all_results[j][i][1])\n",
        "        num_evals.append(all_results[j][i][2])\n",
        "    f_de_1024.append(np.mean(f))\n",
        "    std_de_1024.append(np.std(f))\n",
        "    eval_de_1024.append(np.mean(num_evals))"
      ],
      "metadata": {
        "id": "SbSv6hhbnzpY"
      },
      "execution_count": null,
      "outputs": []
    },
    {
      "cell_type": "code",
      "source": [
        "# CEM_128\n",
        "fobj = ackley\n",
        "bounds = [(-33,33)]\n",
        "dimensions = 10\n",
        "sigma_init = 1\n",
        "num_elite = 10\n",
        "extra_variance = 0.01\n",
        "popsize = 128\n",
        "max_evals = 1e6\n",
        "random_seed = 19521432\n",
        "\n",
        "all_results = []\n",
        "for _ in range(10):\n",
        "    results = cem(fobj, bounds*dimensions, sigma_init, num_elite, extra_variance, popsize, max_evals, random_seed)\n",
        "    all_results.append(results)\n",
        "    random_seed += 1\n",
        "\n",
        "f_cem_128 = []\n",
        "std_cem_128 = [] \n",
        "eval_cem_128 = []\n",
        "\n",
        "for i in range(np.min([len(all_results[k]) for k in range(10)])):\n",
        "    f = []\n",
        "    num_evals = []\n",
        "    for j in range(10):\n",
        "        f.append(all_results[j][i][1])\n",
        "        num_evals.append(all_results[j][i][2])\n",
        "    f_cem_128.append(np.mean(f))\n",
        "    std_cem_128.append(np.std(f))\n",
        "    eval_cem_128.append(np.mean(num_evals))"
      ],
      "metadata": {
        "id": "E8EGWIOrn3UZ"
      },
      "execution_count": null,
      "outputs": []
    },
    {
      "cell_type": "code",
      "source": [
        "# CEM_1024\n",
        "fobj = ackley\n",
        "bounds = [(-33,33)]\n",
        "dimensions = 10\n",
        "sigma_init = 1\n",
        "num_elite = 10\n",
        "extra_variance = 0.01\n",
        "popsize = 1024\n",
        "max_evals = 1e6\n",
        "random_seed = 19521432\n",
        "\n",
        "all_results = []\n",
        "for _ in range(10):\n",
        "    results = cem(fobj, bounds*dimensions, sigma_init, num_elite, extra_variance, popsize, max_evals, random_seed)\n",
        "    all_results.append(results)\n",
        "    random_seed += 1\n",
        "\n",
        "f_cem_1024 = []\n",
        "std_cem_1024 = [] \n",
        "eval_cem_1024 = []\n",
        "\n",
        "for i in range(np.min([len(all_results[k]) for k in range(10)])):\n",
        "    f = []\n",
        "    num_evals = []\n",
        "    for j in range(10):\n",
        "        f.append(all_results[j][i][1])\n",
        "        num_evals.append(all_results[j][i][2])\n",
        "    f_cem_1024.append(np.mean(f))\n",
        "    std_cem_1024.append(np.std(f))\n",
        "    eval_cem_1024.append(np.mean(num_evals))"
      ],
      "metadata": {
        "id": "0359qb6sn8cW"
      },
      "execution_count": null,
      "outputs": []
    },
    {
      "cell_type": "code",
      "source": [
        "error_pos_de_128, error_neg_de_128 = [], []\n",
        "for i in range(len(f_de_128)):\n",
        "    error_pos_de_128.append(f_de_128[i] + std_de_128[i])\n",
        "    error_neg_de_128.append(f_de_128[i] - std_de_128[i])\n",
        "\n",
        "error_pos_de_1024, error_neg_de_1024 = [], []\n",
        "for i in range(len(f_de_1024)):\n",
        "    error_pos_de_1024.append(f_de_1024[i] + std_de_1024[i])\n",
        "    error_neg_de_1024.append(f_de_1024[i] - std_de_1024[i])\n",
        "\n",
        "error_pos_cem_128, error_neg_cem_128 = [], []\n",
        "for i in range(len(f_cem_128)):\n",
        "    error_pos_cem_128.append(f_cem_128[i] + std_cem_128[i])\n",
        "    error_neg_cem_128.append(f_cem_128[i] - std_cem_128[i])\n",
        "\n",
        "error_pos_cem_1024, error_neg_cem_1024 = [], []\n",
        "for i in range(len(f_cem_1024)):\n",
        "    error_pos_cem_1024.append(f_cem_1024[i] + std_cem_1024[i])\n",
        "    error_neg_cem_1024.append(f_cem_1024[i] - std_cem_1024[i])\n",
        "\n",
        "plt.figure(figsize=(12, 6))\n",
        "plt.xlim(left=0, right=1e6)\n",
        "plt.ylim(-1, 25)\n",
        "\n",
        "# DE_128\n",
        "plt.plot(eval_de_128, f_de_128, label=\"DE-128\")\n",
        "plt.fill_between(eval_de_128, error_pos_de_128, error_neg_de_128, alpha = 0.2)\n",
        "\n",
        "# DE_1024\n",
        "plt.plot(eval_de_1024, f_de_1024, label=\"DE-1024\")\n",
        "plt.fill_between(eval_de_1024, error_pos_de_1024, error_neg_de_1024, alpha = 0.2)\n",
        "\n",
        "# CEM_128\n",
        "plt.plot(eval_cem_128, f_cem_128, label=\"CEM-128\")\n",
        "plt.fill_between(eval_cem_128, error_pos_cem_128, error_neg_cem_128, alpha = 0.2)\n",
        "\n",
        "# CEM_1024\n",
        "plt.plot(eval_cem_1024, f_cem_1024, label=\"CEM-1024\")\n",
        "plt.fill_between(eval_cem_1024, error_pos_cem_1024, error_neg_cem_1024, alpha = 0.2)\n",
        "\n",
        "plt.xlabel('Number of evaluations')\n",
        "plt.ylabel('Best fitness')\n",
        "plt.legend()\n",
        "plt.savefig('ackley_10.png')\n",
        "plt.show()"
      ],
      "metadata": {
        "colab": {
          "base_uri": "https://localhost:8080/",
          "height": 392
        },
        "id": "pdq_MutaoAkO",
        "outputId": "2d1a0d98-ade0-49e8-eac4-a6413f0514a0"
      },
      "execution_count": null,
      "outputs": [
        {
          "output_type": "display_data",
          "data": {
            "text/plain": [
              "<Figure size 864x432 with 1 Axes>"
            ],
            "image/png": "[encoded data removed]"
          },
          "metadata": {
            "needs_background": "light"
          }
        }
      ]
    }
  ]
}